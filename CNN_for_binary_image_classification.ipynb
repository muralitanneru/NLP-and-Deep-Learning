{
  "nbformat": 4,
  "nbformat_minor": 0,
  "metadata": {
    "colab": {
      "provenance": [],
      "gpuType": "T4"
    },
    "kernelspec": {
      "name": "python3",
      "display_name": "Python 3"
    },
    "language_info": {
      "name": "python"
    },
    "accelerator": "GPU"
  },
  "cells": [
    {
      "cell_type": "code",
      "execution_count": null,
      "metadata": {
        "id": "ziSdR4YbExGU"
      },
      "outputs": [],
      "source": [
        "import tensorflow as tf\n",
        "import numpy as np\n",
        "import pandas as pd\n",
        "import matplotlib.pyplot as plt"
      ]
    },
    {
      "cell_type": "code",
      "source": [
        "!pip install -q kaggle"
      ],
      "metadata": {
        "id": "fUzIvkHGFNv5"
      },
      "execution_count": null,
      "outputs": []
    },
    {
      "cell_type": "code",
      "source": [
        "!mkdir -p ~/.kaggle"
      ],
      "metadata": {
        "id": "RQwymeFSFNxm"
      },
      "execution_count": null,
      "outputs": []
    },
    {
      "cell_type": "code",
      "source": [
        "from google.colab import files\n",
        "uploaded=files.upload()"
      ],
      "metadata": {
        "colab": {
          "base_uri": "https://localhost:8080/",
          "height": 73
        },
        "id": "IwrzcAW1FN1q",
        "outputId": "92d13b5b-5a69-4c3f-9e2c-52f156d597c8"
      },
      "execution_count": null,
      "outputs": [
        {
          "output_type": "display_data",
          "data": {
            "text/plain": [
              "<IPython.core.display.HTML object>"
            ],
            "text/html": [
              "\n",
              "     <input type=\"file\" id=\"files-0f51cc92-888f-4b4d-b1e4-0c23ccbe30c6\" name=\"files[]\" multiple disabled\n",
              "        style=\"border:none\" />\n",
              "     <output id=\"result-0f51cc92-888f-4b4d-b1e4-0c23ccbe30c6\">\n",
              "      Upload widget is only available when the cell has been executed in the\n",
              "      current browser session. Please rerun this cell to enable.\n",
              "      </output>\n",
              "      <script>// Copyright 2017 Google LLC\n",
              "//\n",
              "// Licensed under the Apache License, Version 2.0 (the \"License\");\n",
              "// you may not use this file except in compliance with the License.\n",
              "// You may obtain a copy of the License at\n",
              "//\n",
              "//      http://www.apache.org/licenses/LICENSE-2.0\n",
              "//\n",
              "// Unless required by applicable law or agreed to in writing, software\n",
              "// distributed under the License is distributed on an \"AS IS\" BASIS,\n",
              "// WITHOUT WARRANTIES OR CONDITIONS OF ANY KIND, either express or implied.\n",
              "// See the License for the specific language governing permissions and\n",
              "// limitations under the License.\n",
              "\n",
              "/**\n",
              " * @fileoverview Helpers for google.colab Python module.\n",
              " */\n",
              "(function(scope) {\n",
              "function span(text, styleAttributes = {}) {\n",
              "  const element = document.createElement('span');\n",
              "  element.textContent = text;\n",
              "  for (const key of Object.keys(styleAttributes)) {\n",
              "    element.style[key] = styleAttributes[key];\n",
              "  }\n",
              "  return element;\n",
              "}\n",
              "\n",
              "// Max number of bytes which will be uploaded at a time.\n",
              "const MAX_PAYLOAD_SIZE = 100 * 1024;\n",
              "\n",
              "function _uploadFiles(inputId, outputId) {\n",
              "  const steps = uploadFilesStep(inputId, outputId);\n",
              "  const outputElement = document.getElementById(outputId);\n",
              "  // Cache steps on the outputElement to make it available for the next call\n",
              "  // to uploadFilesContinue from Python.\n",
              "  outputElement.steps = steps;\n",
              "\n",
              "  return _uploadFilesContinue(outputId);\n",
              "}\n",
              "\n",
              "// This is roughly an async generator (not supported in the browser yet),\n",
              "// where there are multiple asynchronous steps and the Python side is going\n",
              "// to poll for completion of each step.\n",
              "// This uses a Promise to block the python side on completion of each step,\n",
              "// then passes the result of the previous step as the input to the next step.\n",
              "function _uploadFilesContinue(outputId) {\n",
              "  const outputElement = document.getElementById(outputId);\n",
              "  const steps = outputElement.steps;\n",
              "\n",
              "  const next = steps.next(outputElement.lastPromiseValue);\n",
              "  return Promise.resolve(next.value.promise).then((value) => {\n",
              "    // Cache the last promise value to make it available to the next\n",
              "    // step of the generator.\n",
              "    outputElement.lastPromiseValue = value;\n",
              "    return next.value.response;\n",
              "  });\n",
              "}\n",
              "\n",
              "/**\n",
              " * Generator function which is called between each async step of the upload\n",
              " * process.\n",
              " * @param {string} inputId Element ID of the input file picker element.\n",
              " * @param {string} outputId Element ID of the output display.\n",
              " * @return {!Iterable<!Object>} Iterable of next steps.\n",
              " */\n",
              "function* uploadFilesStep(inputId, outputId) {\n",
              "  const inputElement = document.getElementById(inputId);\n",
              "  inputElement.disabled = false;\n",
              "\n",
              "  const outputElement = document.getElementById(outputId);\n",
              "  outputElement.innerHTML = '';\n",
              "\n",
              "  const pickedPromise = new Promise((resolve) => {\n",
              "    inputElement.addEventListener('change', (e) => {\n",
              "      resolve(e.target.files);\n",
              "    });\n",
              "  });\n",
              "\n",
              "  const cancel = document.createElement('button');\n",
              "  inputElement.parentElement.appendChild(cancel);\n",
              "  cancel.textContent = 'Cancel upload';\n",
              "  const cancelPromise = new Promise((resolve) => {\n",
              "    cancel.onclick = () => {\n",
              "      resolve(null);\n",
              "    };\n",
              "  });\n",
              "\n",
              "  // Wait for the user to pick the files.\n",
              "  const files = yield {\n",
              "    promise: Promise.race([pickedPromise, cancelPromise]),\n",
              "    response: {\n",
              "      action: 'starting',\n",
              "    }\n",
              "  };\n",
              "\n",
              "  cancel.remove();\n",
              "\n",
              "  // Disable the input element since further picks are not allowed.\n",
              "  inputElement.disabled = true;\n",
              "\n",
              "  if (!files) {\n",
              "    return {\n",
              "      response: {\n",
              "        action: 'complete',\n",
              "      }\n",
              "    };\n",
              "  }\n",
              "\n",
              "  for (const file of files) {\n",
              "    const li = document.createElement('li');\n",
              "    li.append(span(file.name, {fontWeight: 'bold'}));\n",
              "    li.append(span(\n",
              "        `(${file.type || 'n/a'}) - ${file.size} bytes, ` +\n",
              "        `last modified: ${\n",
              "            file.lastModifiedDate ? file.lastModifiedDate.toLocaleDateString() :\n",
              "                                    'n/a'} - `));\n",
              "    const percent = span('0% done');\n",
              "    li.appendChild(percent);\n",
              "\n",
              "    outputElement.appendChild(li);\n",
              "\n",
              "    const fileDataPromise = new Promise((resolve) => {\n",
              "      const reader = new FileReader();\n",
              "      reader.onload = (e) => {\n",
              "        resolve(e.target.result);\n",
              "      };\n",
              "      reader.readAsArrayBuffer(file);\n",
              "    });\n",
              "    // Wait for the data to be ready.\n",
              "    let fileData = yield {\n",
              "      promise: fileDataPromise,\n",
              "      response: {\n",
              "        action: 'continue',\n",
              "      }\n",
              "    };\n",
              "\n",
              "    // Use a chunked sending to avoid message size limits. See b/62115660.\n",
              "    let position = 0;\n",
              "    do {\n",
              "      const length = Math.min(fileData.byteLength - position, MAX_PAYLOAD_SIZE);\n",
              "      const chunk = new Uint8Array(fileData, position, length);\n",
              "      position += length;\n",
              "\n",
              "      const base64 = btoa(String.fromCharCode.apply(null, chunk));\n",
              "      yield {\n",
              "        response: {\n",
              "          action: 'append',\n",
              "          file: file.name,\n",
              "          data: base64,\n",
              "        },\n",
              "      };\n",
              "\n",
              "      let percentDone = fileData.byteLength === 0 ?\n",
              "          100 :\n",
              "          Math.round((position / fileData.byteLength) * 100);\n",
              "      percent.textContent = `${percentDone}% done`;\n",
              "\n",
              "    } while (position < fileData.byteLength);\n",
              "  }\n",
              "\n",
              "  // All done.\n",
              "  yield {\n",
              "    response: {\n",
              "      action: 'complete',\n",
              "    }\n",
              "  };\n",
              "}\n",
              "\n",
              "scope.google = scope.google || {};\n",
              "scope.google.colab = scope.google.colab || {};\n",
              "scope.google.colab._files = {\n",
              "  _uploadFiles,\n",
              "  _uploadFilesContinue,\n",
              "};\n",
              "})(self);\n",
              "</script> "
            ]
          },
          "metadata": {}
        },
        {
          "output_type": "stream",
          "name": "stdout",
          "text": [
            "Saving kaggle.json to kaggle.json\n"
          ]
        }
      ]
    },
    {
      "cell_type": "code",
      "source": [
        "!cp kaggle.json ~/.kaggle/"
      ],
      "metadata": {
        "id": "fFodLZN6FN3E"
      },
      "execution_count": null,
      "outputs": []
    },
    {
      "cell_type": "code",
      "source": [
        "!chmod 600 /content/kaggle.json"
      ],
      "metadata": {
        "id": "TTsz2C6zFN7Q"
      },
      "execution_count": null,
      "outputs": []
    },
    {
      "cell_type": "code",
      "source": [
        "pwd"
      ],
      "metadata": {
        "colab": {
          "base_uri": "https://localhost:8080/",
          "height": 35
        },
        "id": "J5Xf-cXlFN8j",
        "outputId": "9499d172-2ed9-468e-8910-a105c99f5516"
      },
      "execution_count": null,
      "outputs": [
        {
          "output_type": "execute_result",
          "data": {
            "text/plain": [
              "'/content'"
            ],
            "application/vnd.google.colaboratory.intrinsic+json": {
              "type": "string"
            }
          },
          "metadata": {},
          "execution_count": 7
        }
      ]
    },
    {
      "cell_type": "code",
      "source": [
        "!kaggle datasets list"
      ],
      "metadata": {
        "colab": {
          "base_uri": "https://localhost:8080/"
        },
        "id": "20YpZR6SFOAk",
        "outputId": "5d83597b-4d0b-455e-cc94-c394606b0965"
      },
      "execution_count": null,
      "outputs": [
        {
          "output_type": "stream",
          "name": "stdout",
          "text": [
            "Warning: Your Kaggle API key is readable by other users on this system! To fix this, you can run 'chmod 600 /root/.kaggle/kaggle.json'\n",
            "ref                                                               title                                               size  lastUpdated          downloadCount  voteCount  usabilityRating  \n",
            "----------------------------------------------------------------  -------------------------------------------------  -----  -------------------  -------------  ---------  ---------------  \n",
            "nelgiriyewithana/global-youtube-statistics-2023                   Global YouTube Statistics 2023                      60KB  2023-07-28 15:36:38           9406        313  1.0              \n",
            "arjunajn/netflix-watch-log                                        Netflix Watch Log                                  295KB  2023-08-22 08:23:45            604         28  1.0              \n",
            "vincentcornlius/sales-orders                                      sales orders                                         5MB  2023-08-24 14:04:11            717         23  0.8235294        \n",
            "kapturovalexander/gold-and-silver-prices-2013-2023                Gold and Silver prices (2013-2023)                  80KB  2023-08-27 07:21:58            725         28  1.0              \n",
            "mexwell/us-prisons-dataset                                        ⛓️ US Prisons Dataset                              941KB  2023-08-16 13:55:00            495         27  1.0              \n",
            "andrewgeorgeissac/hotel-price-data-of-cities-in-india-makemytrip  🏨Hotel Price Data of Cities in India (MakeMyTrip)   19KB  2023-08-19 06:43:04            936         31  1.0              \n",
            "brunoalarcon123/top-200-spotify-songs-dataset                     Top 200 Spotify Songs Dataset                       35MB  2023-08-18 05:36:12           2456         78  1.0              \n",
            "anshtanwar/global-data-on-sustainable-energy                      Global Data on Sustainable Energy (2000-2020)      174KB  2023-08-19 05:22:23           4510         86  1.0              \n",
            "joebeachcapital/life-longevity-factors                            Life Longevity Factors                               8KB  2023-08-23 01:01:55            732         32  1.0              \n",
            "nelgiriyewithana/countries-of-the-world-2023                      Global Country Information Dataset 2023             23KB  2023-07-08 20:37:33          14915        582  1.0              \n",
            "kumaranand05/who-suicide-data-1950-2021                           WHO Suicide Data (1950-2021)                         3MB  2023-08-21 13:59:24            508         29  1.0              \n",
            "talhabu/us-regional-sales-data                                    US Regional Sales Data                             195KB  2023-08-14 13:37:46            816         32  1.0              \n",
            "ishanshrivastava28/superstore-sales                               Superstore Sales                                     2MB  2023-08-18 19:01:11           1025         41  1.0              \n",
            "joebeachcapital/loan-default                                      Loan Defaults                                        3MB  2023-08-02 02:28:22           1115         33  1.0              \n",
            "anoopjohny/moon-landings                                          Moon Landings                                        8KB  2023-08-23 22:16:49            607         30  1.0              \n",
            "jjinho/wikipedia-20230701                                         Wikipedia Plaintext (2023-07-01)                    12GB  2023-07-17 01:43:57            481         45  1.0              \n",
            "inductiveanks/employee-salaries-for-different-job-roles           Employee Salaries for different job roles            7KB  2023-08-02 15:11:52            969         26  0.88235295       \n",
            "fiq423ubf/cbse-result-statistics-class-xii-2023                   CBSE Result Statistics Class XII - 2023             881B  2023-08-22 08:50:16            442         32  1.0              \n",
            "jjinho/wikipedia-2023-07-faiss-index                              Wikipedia 2023 07 faiss index                        5GB  2023-07-17 01:57:37            168         13  1.0              \n",
            "guillemservera/forbes-billionaires-1997-2023                      Forbes Billionaires Evolution (1997-2023)            2MB  2023-08-10 19:27:30            623         31  1.0              \n"
          ]
        }
      ]
    },
    {
      "cell_type": "code",
      "source": [
        "! kaggle datasets download -d tongpython/cat-and-dog"
      ],
      "metadata": {
        "colab": {
          "base_uri": "https://localhost:8080/"
        },
        "id": "HsHiSmV6FOCQ",
        "outputId": "ecf77a58-b583-4c13-ca13-158a5ce056c7"
      },
      "execution_count": null,
      "outputs": [
        {
          "output_type": "stream",
          "name": "stdout",
          "text": [
            "Warning: Your Kaggle API key is readable by other users on this system! To fix this, you can run 'chmod 600 /root/.kaggle/kaggle.json'\n",
            "Downloading cat-and-dog.zip to /content\n",
            " 98% 214M/218M [00:01<00:00, 187MB/s]\n",
            "100% 218M/218M [00:01<00:00, 132MB/s]\n"
          ]
        }
      ]
    },
    {
      "cell_type": "code",
      "source": [
        "!unzip -q /content/cat-and-dog.zip"
      ],
      "metadata": {
        "id": "kFrWe3xRHvCB"
      },
      "execution_count": null,
      "outputs": []
    },
    {
      "cell_type": "markdown",
      "source": [
        "# Model Building"
      ],
      "metadata": {
        "id": "yMZ4seadJ2Sk"
      }
    },
    {
      "cell_type": "code",
      "source": [
        "# crating the object\n",
        "model=tf.keras.models.Sequential()"
      ],
      "metadata": {
        "id": "ukIxgQzRHvDT"
      },
      "execution_count": null,
      "outputs": []
    },
    {
      "cell_type": "code",
      "source": [
        "model.add(tf.keras.layers.Conv2D(filters=64,kernel_size=3,padding='same',activation='relu',input_shape=(32,32,3)))"
      ],
      "metadata": {
        "id": "6CoS5alSHvHH"
      },
      "execution_count": null,
      "outputs": []
    },
    {
      "cell_type": "code",
      "source": [
        "model.add(tf.keras.layers.MaxPool2D(pool_size=(2,2),strides=2,padding='valid'))"
      ],
      "metadata": {
        "id": "30JuPH2hHvIZ"
      },
      "execution_count": null,
      "outputs": []
    },
    {
      "cell_type": "code",
      "source": [
        "#second cnn\n",
        "model.add(tf.keras.layers.Conv2D(filters=64,kernel_size=3,padding='same',activation='relu'))\n",
        "model.add(tf.keras.layers.MaxPool2D(pool_size=(2,2),strides=2,padding='valid'))"
      ],
      "metadata": {
        "id": "nEpPucb1HvMF"
      },
      "execution_count": null,
      "outputs": []
    },
    {
      "cell_type": "code",
      "source": [
        "# flatten layer\n",
        "model.add(tf.keras.layers.Flatten())"
      ],
      "metadata": {
        "id": "FebfLwYoHvNV"
      },
      "execution_count": null,
      "outputs": []
    },
    {
      "cell_type": "code",
      "source": [
        "# Dropout layer\n",
        "model.add(tf.keras.layers.Dropout(0.4))"
      ],
      "metadata": {
        "id": "228lBXjdHvQ5"
      },
      "execution_count": null,
      "outputs": []
    },
    {
      "cell_type": "code",
      "source": [
        "#Adding fully connected layer\n",
        "model.add(tf.keras.layers.Dense(units=128,activation='relu'))"
      ],
      "metadata": {
        "id": "8MIYOAjPHvSd"
      },
      "execution_count": null,
      "outputs": []
    },
    {
      "cell_type": "code",
      "source": [
        "# Add output layer\n",
        "model.add(tf.keras.layers.Dense(units=1,activation='sigmoid'))"
      ],
      "metadata": {
        "id": "iKD1D7ifHvVl"
      },
      "execution_count": null,
      "outputs": []
    },
    {
      "cell_type": "code",
      "source": [
        "model.summary()"
      ],
      "metadata": {
        "colab": {
          "base_uri": "https://localhost:8080/"
        },
        "id": "aCRoAiPuHvW3",
        "outputId": "de06feed-9d1f-445f-9ed7-222429596eba"
      },
      "execution_count": null,
      "outputs": [
        {
          "output_type": "stream",
          "name": "stdout",
          "text": [
            "Model: \"sequential\"\n",
            "_________________________________________________________________\n",
            " Layer (type)                Output Shape              Param #   \n",
            "=================================================================\n",
            " conv2d (Conv2D)             (None, 32, 32, 64)        1792      \n",
            "                                                                 \n",
            " max_pooling2d (MaxPooling2D  (None, 16, 16, 64)       0         \n",
            " )                                                               \n",
            "                                                                 \n",
            " conv2d_1 (Conv2D)           (None, 16, 16, 64)        36928     \n",
            "                                                                 \n",
            " max_pooling2d_1 (MaxPooling  (None, 8, 8, 64)         0         \n",
            " 2D)                                                             \n",
            "                                                                 \n",
            " flatten (Flatten)           (None, 4096)              0         \n",
            "                                                                 \n",
            " dropout (Dropout)           (None, 4096)              0         \n",
            "                                                                 \n",
            " dense (Dense)               (None, 128)               524416    \n",
            "                                                                 \n",
            " dense_1 (Dense)             (None, 1)                 129       \n",
            "                                                                 \n",
            "=================================================================\n",
            "Total params: 563,265\n",
            "Trainable params: 563,265\n",
            "Non-trainable params: 0\n",
            "_________________________________________________________________\n"
          ]
        }
      ]
    },
    {
      "cell_type": "code",
      "source": [
        "# model compile\n",
        "model.compile(optimizer='adam',loss='binary_crossentropy',metrics='accuracy')"
      ],
      "metadata": {
        "id": "7EDrYgFBHvaT"
      },
      "execution_count": null,
      "outputs": []
    },
    {
      "cell_type": "markdown",
      "source": [
        "# Training data"
      ],
      "metadata": {
        "id": "fnmWVEQkMQaT"
      }
    },
    {
      "cell_type": "code",
      "source": [
        "from tensorflow.keras.preprocessing.image import ImageDataGenerator"
      ],
      "metadata": {
        "id": "yuzQmLXqHve5"
      },
      "execution_count": null,
      "outputs": []
    },
    {
      "cell_type": "code",
      "source": [
        "training_data_dir='/content/training_set/training_set'\n",
        "test_data_dir='/content/test_set/test_set'"
      ],
      "metadata": {
        "id": "1ZphJnyEHvgR"
      },
      "execution_count": null,
      "outputs": []
    },
    {
      "cell_type": "code",
      "source": [
        "# rescale images\n",
        "Datagen=ImageDataGenerator(rescale=1./255)"
      ],
      "metadata": {
        "id": "EUOKot_UNteK"
      },
      "execution_count": null,
      "outputs": []
    },
    {
      "cell_type": "code",
      "source": [
        "training_set=Datagen.flow_from_directory(directory=training_data_dir,target_size=(32,32), classes=['dogs','cats'],class_mode='binary',batch_size=20)"
      ],
      "metadata": {
        "colab": {
          "base_uri": "https://localhost:8080/"
        },
        "id": "UMyTT5QlHvka",
        "outputId": "709cabb7-86be-4396-aeff-e3c26c239e07"
      },
      "execution_count": null,
      "outputs": [
        {
          "output_type": "stream",
          "name": "stdout",
          "text": [
            "Found 8005 images belonging to 2 classes.\n"
          ]
        }
      ]
    },
    {
      "cell_type": "code",
      "source": [
        "test_set=Datagen.flow_from_directory(directory=test_data_dir,target_size=(32,32), classes=['dogs','cats'],class_mode='binary',batch_size=20)"
      ],
      "metadata": {
        "colab": {
          "base_uri": "https://localhost:8080/"
        },
        "id": "wiJgkbGTOZzh",
        "outputId": "0ec0d672-40b3-4e0a-a237-1e6a63e37510"
      },
      "execution_count": null,
      "outputs": [
        {
          "output_type": "stream",
          "name": "stdout",
          "text": [
            "Found 2023 images belonging to 2 classes.\n"
          ]
        }
      ]
    },
    {
      "cell_type": "code",
      "source": [
        "len(training_set),len(test_set)"
      ],
      "metadata": {
        "colab": {
          "base_uri": "https://localhost:8080/"
        },
        "id": "04hMiLP0OaAQ",
        "outputId": "4d00f97b-50f7-46d4-9729-3fae441c0f15"
      },
      "execution_count": null,
      "outputs": [
        {
          "output_type": "execute_result",
          "data": {
            "text/plain": [
              "(401, 102)"
            ]
          },
          "metadata": {},
          "execution_count": 26
        }
      ]
    },
    {
      "cell_type": "code",
      "source": [
        "len(training_set)*20,len(test_set)*20"
      ],
      "metadata": {
        "colab": {
          "base_uri": "https://localhost:8080/"
        },
        "id": "ThzJ7fM3PCb-",
        "outputId": "9484e03a-c631-4bca-ea6f-303494017792"
      },
      "execution_count": null,
      "outputs": [
        {
          "output_type": "execute_result",
          "data": {
            "text/plain": [
              "(8020, 2040)"
            ]
          },
          "metadata": {},
          "execution_count": 27
        }
      ]
    },
    {
      "cell_type": "code",
      "source": [
        "test_set.class_mode"
      ],
      "metadata": {
        "colab": {
          "base_uri": "https://localhost:8080/",
          "height": 35
        },
        "id": "GfbtB74MPCdl",
        "outputId": "69d99bfe-84bc-463b-aeeb-4e8808dfeb02"
      },
      "execution_count": null,
      "outputs": [
        {
          "output_type": "execute_result",
          "data": {
            "text/plain": [
              "'binary'"
            ],
            "application/vnd.google.colaboratory.intrinsic+json": {
              "type": "string"
            }
          },
          "metadata": {},
          "execution_count": 28
        }
      ]
    },
    {
      "cell_type": "code",
      "source": [
        "history=model.fit_generator(training_set,steps_per_epoch=401,epochs=20,validation_data=test_set,validation_steps=102)"
      ],
      "metadata": {
        "colab": {
          "base_uri": "https://localhost:8080/"
        },
        "id": "ysJZ0eq3QIRJ",
        "outputId": "0b48c235-8977-4b99-93b4-5029f4ddac47"
      },
      "execution_count": null,
      "outputs": [
        {
          "output_type": "stream",
          "name": "stdout",
          "text": [
            "Epoch 1/20\n"
          ]
        },
        {
          "output_type": "stream",
          "name": "stderr",
          "text": [
            "<ipython-input-29-7bfccd66f0d7>:1: UserWarning: `Model.fit_generator` is deprecated and will be removed in a future version. Please use `Model.fit`, which supports generators.\n",
            "  history=model.fit_generator(training_set,steps_per_epoch=401,epochs=20,validation_data=test_set,validation_steps=102)\n"
          ]
        },
        {
          "output_type": "stream",
          "name": "stdout",
          "text": [
            "401/401 [==============================] - 27s 36ms/step - loss: 0.6622 - accuracy: 0.5929 - val_loss: 0.6193 - val_accuracy: 0.6658\n",
            "Epoch 2/20\n",
            "401/401 [==============================] - 15s 38ms/step - loss: 0.5976 - accuracy: 0.6785 - val_loss: 0.6071 - val_accuracy: 0.6569\n",
            "Epoch 3/20\n",
            "401/401 [==============================] - 15s 37ms/step - loss: 0.5578 - accuracy: 0.7054 - val_loss: 0.5506 - val_accuracy: 0.7266\n",
            "Epoch 4/20\n",
            "401/401 [==============================] - 15s 36ms/step - loss: 0.5262 - accuracy: 0.7380 - val_loss: 0.5182 - val_accuracy: 0.7523\n",
            "Epoch 5/20\n",
            "401/401 [==============================] - 14s 35ms/step - loss: 0.4988 - accuracy: 0.7544 - val_loss: 0.5067 - val_accuracy: 0.7637\n",
            "Epoch 6/20\n",
            "401/401 [==============================] - 14s 34ms/step - loss: 0.4733 - accuracy: 0.7699 - val_loss: 0.4859 - val_accuracy: 0.7736\n",
            "Epoch 7/20\n",
            "401/401 [==============================] - 14s 35ms/step - loss: 0.4351 - accuracy: 0.7956 - val_loss: 0.4973 - val_accuracy: 0.7662\n",
            "Epoch 8/20\n",
            "401/401 [==============================] - 17s 42ms/step - loss: 0.4241 - accuracy: 0.8057 - val_loss: 0.5190 - val_accuracy: 0.7509\n",
            "Epoch 9/20\n",
            "401/401 [==============================] - 14s 35ms/step - loss: 0.3930 - accuracy: 0.8201 - val_loss: 0.5265 - val_accuracy: 0.7647\n",
            "Epoch 10/20\n",
            "401/401 [==============================] - 14s 34ms/step - loss: 0.3730 - accuracy: 0.8294 - val_loss: 0.4963 - val_accuracy: 0.7741\n",
            "Epoch 11/20\n",
            "401/401 [==============================] - 15s 37ms/step - loss: 0.3376 - accuracy: 0.8531 - val_loss: 0.4928 - val_accuracy: 0.7687\n",
            "Epoch 12/20\n",
            "401/401 [==============================] - 14s 34ms/step - loss: 0.3103 - accuracy: 0.8638 - val_loss: 0.5087 - val_accuracy: 0.7716\n",
            "Epoch 13/20\n",
            "401/401 [==============================] - 14s 35ms/step - loss: 0.2869 - accuracy: 0.8798 - val_loss: 0.5250 - val_accuracy: 0.7652\n",
            "Epoch 14/20\n",
            "401/401 [==============================] - 14s 35ms/step - loss: 0.2530 - accuracy: 0.8957 - val_loss: 0.5655 - val_accuracy: 0.7672\n",
            "Epoch 15/20\n",
            "401/401 [==============================] - 14s 36ms/step - loss: 0.2309 - accuracy: 0.9031 - val_loss: 0.5873 - val_accuracy: 0.7711\n",
            "Epoch 16/20\n",
            "401/401 [==============================] - 14s 35ms/step - loss: 0.2119 - accuracy: 0.9153 - val_loss: 0.6205 - val_accuracy: 0.7608\n",
            "Epoch 17/20\n",
            "401/401 [==============================] - 17s 41ms/step - loss: 0.1829 - accuracy: 0.9282 - val_loss: 0.5897 - val_accuracy: 0.7687\n",
            "Epoch 18/20\n",
            "401/401 [==============================] - 14s 35ms/step - loss: 0.1653 - accuracy: 0.9359 - val_loss: 0.6339 - val_accuracy: 0.7746\n",
            "Epoch 19/20\n",
            "401/401 [==============================] - 14s 35ms/step - loss: 0.1543 - accuracy: 0.9397 - val_loss: 0.6391 - val_accuracy: 0.7583\n",
            "Epoch 20/20\n",
            "401/401 [==============================] - 14s 35ms/step - loss: 0.1416 - accuracy: 0.9455 - val_loss: 0.7545 - val_accuracy: 0.7627\n"
          ]
        }
      ]
    },
    {
      "cell_type": "markdown",
      "source": [
        "# plotting and learn curve"
      ],
      "metadata": {
        "id": "i7j6S5MMTKI1"
      }
    },
    {
      "cell_type": "code",
      "source": [
        "def learning_curve(history,epoch):\n",
        "  epoch_range=range(1,epoch+1)\n",
        "  plt.plot(epoch_range,history.history['accuracy'])\n",
        "  plt.plot(epoch_range,history.history['val_accuracy'])\n",
        "  plt.title('model_accuracy')\n",
        "  plt.ylabel('Accuracy')\n",
        "  plt.xlabel('Epoch')\n",
        "  #plt.legend(['Train','val'],loc='upper_right')\n",
        "  plt.show()\n",
        "  #loss\n",
        "  plt.plot(epoch_range,history.history['loss'])\n",
        "  plt.plot(epoch_range,history.history['val_loss'])\n",
        "  plt.title('model_loss')\n",
        "  plt.ylabel('loss')\n",
        "  plt.xlabel('Epoch')\n",
        "  #plt.legend(['Train','val'],loc='upper_left')\n",
        "  plt.show()\n"
      ],
      "metadata": {
        "id": "gQN7vuhNQISs"
      },
      "execution_count": null,
      "outputs": []
    },
    {
      "cell_type": "code",
      "source": [
        "learning_curve(history,20)"
      ],
      "metadata": {
        "colab": {
          "base_uri": "https://localhost:8080/",
          "height": 927
        },
        "id": "I8rqlhMcQIWv",
        "outputId": "b30b1827-05a5-4583-d3ad-448c4b0d565c"
      },
      "execution_count": null,
      "outputs": [
        {
          "output_type": "display_data",
          "data": {
            "text/plain": [
              "<Figure size 640x480 with 1 Axes>"
            ],
            "image/png": "[encoded data removed]"
          },
          "metadata": {}
        },
        {
          "output_type": "display_data",
          "data": {
            "text/plain": [
              "<Figure size 640x480 with 1 Axes>"
            ],
            "image/png": "[encoded data removed]"
          },
          "metadata": {}
        }
      ]
    },
    {
      "cell_type": "code",
      "source": [],
      "metadata": {
        "id": "E9UfA9fDQIYW"
      },
      "execution_count": null,
      "outputs": []
    },
    {
      "cell_type": "code",
      "source": [],
      "metadata": {
        "id": "6NBgEE9JQIcp"
      },
      "execution_count": null,
      "outputs": []
    }
  ]
}