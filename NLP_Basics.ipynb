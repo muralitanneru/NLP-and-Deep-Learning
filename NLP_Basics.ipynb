{
  "nbformat": 4,
  "nbformat_minor": 0,
  "metadata": {
    "colab": {
      "provenance": []
    },
    "kernelspec": {
      "name": "python3",
      "display_name": "Python 3"
    },
    "language_info": {
      "name": "python"
    }
  },
  "cells": [
    {
      "cell_type": "code",
      "execution_count": null,
      "metadata": {
        "id": "hMlWruZI8zn2"
      },
      "outputs": [],
      "source": [
        "import numpy as np"
      ]
    },
    {
      "cell_type": "code",
      "source": [],
      "metadata": {
        "id": "FUjrcyeNyi-4"
      },
      "execution_count": null,
      "outputs": []
    },
    {
      "cell_type": "code",
      "source": [
        "import pandas as pd\n",
        "import spacy\n",
        "import nltk\n",
        "import matplotlib.pyplot as plt\n",
        "\n",
        "# https://spacy.io/models/en#en_core_web_sm --- use ful link for different lanugages for tokenization\n"
      ],
      "metadata": {
        "id": "UAbzlGT983Ot"
      },
      "execution_count": null,
      "outputs": []
    },
    {
      "cell_type": "code",
      "source": [
        "s1 = 'Apple is looking at buying U.K. startup for $1 billion !'\n",
        "s2 = 'Hello all, We are here to help you! email support@udemy.com or visit us at http://www.udemy.com!'\n",
        "s3 = '10km cab ride almost costs $20 in NYC'\n",
        "s4 = \"Let's watch a movie together.\""
      ],
      "metadata": {
        "id": "X1ZbuTexy8ZH"
      },
      "execution_count": null,
      "outputs": []
    },
    {
      "cell_type": "code",
      "source": [
        "nlp=spacy.load(name='en_core_web_sm')\n",
        "doc1=nlp(s1)\n",
        "print(doc1)\n",
        "for token in doc1:\n",
        "  print(token)"
      ],
      "metadata": {
        "id": "3Yd0RoFvykQd",
        "colab": {
          "base_uri": "https://localhost:8080/"
        },
        "outputId": "591f38bc-8324-4216-ff56-089f48ff5911"
      },
      "execution_count": null,
      "outputs": [
        {
          "output_type": "stream",
          "name": "stdout",
          "text": [
            "Apple is looking at buying U.K. startup for $1 billion !\n",
            "Apple\n",
            "is\n",
            "looking\n",
            "at\n",
            "buying\n",
            "U.K.\n",
            "startup\n",
            "for\n",
            "$\n",
            "1\n",
            "billion\n",
            "!\n"
          ]
        }
      ]
    },
    {
      "cell_type": "code",
      "source": [
        "doc2=nlp(s2)\n",
        "print(doc2)\n",
        "for token in doc2:\n",
        "  print(token)"
      ],
      "metadata": {
        "id": "NKcmDitxzZ2B",
        "colab": {
          "base_uri": "https://localhost:8080/"
        },
        "outputId": "a023e1da-4e29-4268-8916-6582da34900d"
      },
      "execution_count": null,
      "outputs": [
        {
          "output_type": "stream",
          "name": "stdout",
          "text": [
            "Hello all, We are here to help you! email support@udemy.com or visit us at http://www.udemy.com!\n",
            "Hello\n",
            "all\n",
            ",\n",
            "We\n",
            "are\n",
            "here\n",
            "to\n",
            "help\n",
            "you\n",
            "!\n",
            "email\n",
            "support@udemy.com\n",
            "or\n",
            "visit\n",
            "us\n",
            "at\n",
            "http://www.udemy.com\n",
            "!\n"
          ]
        }
      ]
    },
    {
      "cell_type": "code",
      "source": [
        "doc3=nlp(s3)\n",
        "print(doc3)\n",
        "for token in doc3:\n",
        "  print(token)"
      ],
      "metadata": {
        "id": "odLaBlsWzarm",
        "colab": {
          "base_uri": "https://localhost:8080/"
        },
        "outputId": "d35ccdee-a9a0-4aa0-907c-2e54ede718cf"
      },
      "execution_count": null,
      "outputs": [
        {
          "output_type": "stream",
          "name": "stdout",
          "text": [
            "10km cab ride almost costs $20 in NYC\n",
            "10\n",
            "km\n",
            "cab\n",
            "ride\n",
            "almost\n",
            "costs\n",
            "$\n",
            "20\n",
            "in\n",
            "NYC\n"
          ]
        }
      ]
    },
    {
      "cell_type": "code",
      "source": [
        "doc4=nlp(s4)\n",
        "print(doc4)\n",
        "for token in doc4:\n",
        "  print(token)"
      ],
      "metadata": {
        "id": "kaXmY4iszbun",
        "colab": {
          "base_uri": "https://localhost:8080/"
        },
        "outputId": "466fae1c-c8e9-4433-85fc-3ad6ed78bd23"
      },
      "execution_count": null,
      "outputs": [
        {
          "output_type": "stream",
          "name": "stdout",
          "text": [
            "Let's watch a movie together.\n",
            "Let\n",
            "'s\n",
            "watch\n",
            "a\n",
            "movie\n",
            "together\n",
            ".\n"
          ]
        }
      ]
    },
    {
      "cell_type": "code",
      "source": [
        "!python -m spacy download en_core_web_md"
      ],
      "metadata": {
        "id": "0PNfD3XFz4Xd",
        "colab": {
          "base_uri": "https://localhost:8080/"
        },
        "outputId": "9b2d51c0-8054-4121-fe3e-a649c07420bb"
      },
      "execution_count": null,
      "outputs": [
        {
          "output_type": "stream",
          "name": "stdout",
          "text": [
            "2023-06-15 00:44:17.073364: W tensorflow/compiler/tf2tensorrt/utils/py_utils.cc:38] TF-TRT Warning: Could not find TensorRT\n",
            "Looking in indexes: https://pypi.org/simple, https://us-python.pkg.dev/colab-wheels/public/simple/\n",
            "Collecting en-core-web-md==3.5.0\n",
            "  Downloading https://github.com/explosion/spacy-models/releases/download/en_core_web_md-3.5.0/en_core_web_md-3.5.0-py3-none-any.whl (42.8 MB)\n",
            "\u001b[2K     \u001b[90m━━━━━━━━━━━━━━━━━━━━━━━━━━━━━━━━━━━━━━━━\u001b[0m \u001b[32m42.8/42.8 MB\u001b[0m \u001b[31m20.2 MB/s\u001b[0m eta \u001b[36m0:00:00\u001b[0m\n",
            "\u001b[?25hRequirement already satisfied: spacy<3.6.0,>=3.5.0 in /usr/local/lib/python3.10/dist-packages (from en-core-web-md==3.5.0) (3.5.2)\n",
            "Requirement already satisfied: spacy-legacy<3.1.0,>=3.0.11 in /usr/local/lib/python3.10/dist-packages (from spacy<3.6.0,>=3.5.0->en-core-web-md==3.5.0) (3.0.12)\n",
            "Requirement already satisfied: spacy-loggers<2.0.0,>=1.0.0 in /usr/local/lib/python3.10/dist-packages (from spacy<3.6.0,>=3.5.0->en-core-web-md==3.5.0) (1.0.4)\n",
            "Requirement already satisfied: murmurhash<1.1.0,>=0.28.0 in /usr/local/lib/python3.10/dist-packages (from spacy<3.6.0,>=3.5.0->en-core-web-md==3.5.0) (1.0.9)\n",
            "Requirement already satisfied: cymem<2.1.0,>=2.0.2 in /usr/local/lib/python3.10/dist-packages (from spacy<3.6.0,>=3.5.0->en-core-web-md==3.5.0) (2.0.7)\n",
            "Requirement already satisfied: preshed<3.1.0,>=3.0.2 in /usr/local/lib/python3.10/dist-packages (from spacy<3.6.0,>=3.5.0->en-core-web-md==3.5.0) (3.0.8)\n",
            "Requirement already satisfied: thinc<8.2.0,>=8.1.8 in /usr/local/lib/python3.10/dist-packages (from spacy<3.6.0,>=3.5.0->en-core-web-md==3.5.0) (8.1.9)\n",
            "Requirement already satisfied: wasabi<1.2.0,>=0.9.1 in /usr/local/lib/python3.10/dist-packages (from spacy<3.6.0,>=3.5.0->en-core-web-md==3.5.0) (1.1.1)\n",
            "Requirement already satisfied: srsly<3.0.0,>=2.4.3 in /usr/local/lib/python3.10/dist-packages (from spacy<3.6.0,>=3.5.0->en-core-web-md==3.5.0) (2.4.6)\n",
            "Requirement already satisfied: catalogue<2.1.0,>=2.0.6 in /usr/local/lib/python3.10/dist-packages (from spacy<3.6.0,>=3.5.0->en-core-web-md==3.5.0) (2.0.8)\n",
            "Requirement already satisfied: typer<0.8.0,>=0.3.0 in /usr/local/lib/python3.10/dist-packages (from spacy<3.6.0,>=3.5.0->en-core-web-md==3.5.0) (0.7.0)\n",
            "Requirement already satisfied: pathy>=0.10.0 in /usr/local/lib/python3.10/dist-packages (from spacy<3.6.0,>=3.5.0->en-core-web-md==3.5.0) (0.10.1)\n",
            "Requirement already satisfied: smart-open<7.0.0,>=5.2.1 in /usr/local/lib/python3.10/dist-packages (from spacy<3.6.0,>=3.5.0->en-core-web-md==3.5.0) (6.3.0)\n",
            "Requirement already satisfied: tqdm<5.0.0,>=4.38.0 in /usr/local/lib/python3.10/dist-packages (from spacy<3.6.0,>=3.5.0->en-core-web-md==3.5.0) (4.65.0)\n",
            "Requirement already satisfied: numpy>=1.15.0 in /usr/local/lib/python3.10/dist-packages (from spacy<3.6.0,>=3.5.0->en-core-web-md==3.5.0) (1.22.4)\n",
            "Requirement already satisfied: requests<3.0.0,>=2.13.0 in /usr/local/lib/python3.10/dist-packages (from spacy<3.6.0,>=3.5.0->en-core-web-md==3.5.0) (2.27.1)\n",
            "Requirement already satisfied: pydantic!=1.8,!=1.8.1,<1.11.0,>=1.7.4 in /usr/local/lib/python3.10/dist-packages (from spacy<3.6.0,>=3.5.0->en-core-web-md==3.5.0) (1.10.7)\n",
            "Requirement already satisfied: jinja2 in /usr/local/lib/python3.10/dist-packages (from spacy<3.6.0,>=3.5.0->en-core-web-md==3.5.0) (3.1.2)\n",
            "Requirement already satisfied: setuptools in /usr/local/lib/python3.10/dist-packages (from spacy<3.6.0,>=3.5.0->en-core-web-md==3.5.0) (67.7.2)\n",
            "Requirement already satisfied: packaging>=20.0 in /usr/local/lib/python3.10/dist-packages (from spacy<3.6.0,>=3.5.0->en-core-web-md==3.5.0) (23.1)\n",
            "Requirement already satisfied: langcodes<4.0.0,>=3.2.0 in /usr/local/lib/python3.10/dist-packages (from spacy<3.6.0,>=3.5.0->en-core-web-md==3.5.0) (3.3.0)\n",
            "Requirement already satisfied: typing-extensions>=4.2.0 in /usr/local/lib/python3.10/dist-packages (from pydantic!=1.8,!=1.8.1,<1.11.0,>=1.7.4->spacy<3.6.0,>=3.5.0->en-core-web-md==3.5.0) (4.5.0)\n",
            "Requirement already satisfied: urllib3<1.27,>=1.21.1 in /usr/local/lib/python3.10/dist-packages (from requests<3.0.0,>=2.13.0->spacy<3.6.0,>=3.5.0->en-core-web-md==3.5.0) (1.26.15)\n",
            "Requirement already satisfied: certifi>=2017.4.17 in /usr/local/lib/python3.10/dist-packages (from requests<3.0.0,>=2.13.0->spacy<3.6.0,>=3.5.0->en-core-web-md==3.5.0) (2022.12.7)\n",
            "Requirement already satisfied: charset-normalizer~=2.0.0 in /usr/local/lib/python3.10/dist-packages (from requests<3.0.0,>=2.13.0->spacy<3.6.0,>=3.5.0->en-core-web-md==3.5.0) (2.0.12)\n",
            "Requirement already satisfied: idna<4,>=2.5 in /usr/local/lib/python3.10/dist-packages (from requests<3.0.0,>=2.13.0->spacy<3.6.0,>=3.5.0->en-core-web-md==3.5.0) (3.4)\n",
            "Requirement already satisfied: blis<0.8.0,>=0.7.8 in /usr/local/lib/python3.10/dist-packages (from thinc<8.2.0,>=8.1.8->spacy<3.6.0,>=3.5.0->en-core-web-md==3.5.0) (0.7.9)\n",
            "Requirement already satisfied: confection<1.0.0,>=0.0.1 in /usr/local/lib/python3.10/dist-packages (from thinc<8.2.0,>=8.1.8->spacy<3.6.0,>=3.5.0->en-core-web-md==3.5.0) (0.0.4)\n",
            "Requirement already satisfied: click<9.0.0,>=7.1.1 in /usr/local/lib/python3.10/dist-packages (from typer<0.8.0,>=0.3.0->spacy<3.6.0,>=3.5.0->en-core-web-md==3.5.0) (8.1.3)\n",
            "Requirement already satisfied: MarkupSafe>=2.0 in /usr/local/lib/python3.10/dist-packages (from jinja2->spacy<3.6.0,>=3.5.0->en-core-web-md==3.5.0) (2.1.2)\n",
            "Installing collected packages: en-core-web-md\n",
            "Successfully installed en-core-web-md-3.5.0\n",
            "\u001b[38;5;2m✔ Download and installation successful\u001b[0m\n",
            "You can now load the package via spacy.load('en_core_web_md')\n"
          ]
        }
      ]
    },
    {
      "cell_type": "code",
      "source": [
        "import en_core_web_md\n",
        "nlp1=en_core_web_md.load()\n",
        "doc4=nlp1(s4)\n",
        "print(doc4)\n",
        "for token in doc4:\n",
        "  print(token)\n",
        "\n",
        "#int his way we need to check for all strings"
      ],
      "metadata": {
        "id": "Vnj0_Njk0qb1",
        "colab": {
          "base_uri": "https://localhost:8080/"
        },
        "outputId": "2473e20a-5a72-48a2-de2d-df72ab0d2c63"
      },
      "execution_count": null,
      "outputs": [
        {
          "output_type": "stream",
          "name": "stdout",
          "text": [
            "Let's watch a movie together.\n",
            "Let\n",
            "'s\n",
            "watch\n",
            "a\n",
            "movie\n",
            "together\n",
            ".\n"
          ]
        }
      ]
    },
    {
      "cell_type": "code",
      "source": [
        "!python -m spacy download en_core_web_lg"
      ],
      "metadata": {
        "id": "SlQSq9ge0SiQ",
        "colab": {
          "base_uri": "https://localhost:8080/"
        },
        "outputId": "fceea332-0266-409e-87bc-892fe0a49344"
      },
      "execution_count": null,
      "outputs": [
        {
          "output_type": "stream",
          "name": "stdout",
          "text": [
            "2023-06-15 00:44:32.360815: W tensorflow/compiler/tf2tensorrt/utils/py_utils.cc:38] TF-TRT Warning: Could not find TensorRT\n",
            "Looking in indexes: https://pypi.org/simple, https://us-python.pkg.dev/colab-wheels/public/simple/\n",
            "Collecting en-core-web-lg==3.5.0\n",
            "  Downloading https://github.com/explosion/spacy-models/releases/download/en_core_web_lg-3.5.0/en_core_web_lg-3.5.0-py3-none-any.whl (587.7 MB)\n",
            "\u001b[2K     \u001b[90m━━━━━━━━━━━━━━━━━━━━━━━━━━━━━━━━━━━━━━━\u001b[0m \u001b[32m587.7/587.7 MB\u001b[0m \u001b[31m3.0 MB/s\u001b[0m eta \u001b[36m0:00:00\u001b[0m\n",
            "\u001b[?25hRequirement already satisfied: spacy<3.6.0,>=3.5.0 in /usr/local/lib/python3.10/dist-packages (from en-core-web-lg==3.5.0) (3.5.2)\n",
            "Requirement already satisfied: spacy-legacy<3.1.0,>=3.0.11 in /usr/local/lib/python3.10/dist-packages (from spacy<3.6.0,>=3.5.0->en-core-web-lg==3.5.0) (3.0.12)\n",
            "Requirement already satisfied: spacy-loggers<2.0.0,>=1.0.0 in /usr/local/lib/python3.10/dist-packages (from spacy<3.6.0,>=3.5.0->en-core-web-lg==3.5.0) (1.0.4)\n",
            "Requirement already satisfied: murmurhash<1.1.0,>=0.28.0 in /usr/local/lib/python3.10/dist-packages (from spacy<3.6.0,>=3.5.0->en-core-web-lg==3.5.0) (1.0.9)\n",
            "Requirement already satisfied: cymem<2.1.0,>=2.0.2 in /usr/local/lib/python3.10/dist-packages (from spacy<3.6.0,>=3.5.0->en-core-web-lg==3.5.0) (2.0.7)\n",
            "Requirement already satisfied: preshed<3.1.0,>=3.0.2 in /usr/local/lib/python3.10/dist-packages (from spacy<3.6.0,>=3.5.0->en-core-web-lg==3.5.0) (3.0.8)\n",
            "Requirement already satisfied: thinc<8.2.0,>=8.1.8 in /usr/local/lib/python3.10/dist-packages (from spacy<3.6.0,>=3.5.0->en-core-web-lg==3.5.0) (8.1.9)\n",
            "Requirement already satisfied: wasabi<1.2.0,>=0.9.1 in /usr/local/lib/python3.10/dist-packages (from spacy<3.6.0,>=3.5.0->en-core-web-lg==3.5.0) (1.1.1)\n",
            "Requirement already satisfied: srsly<3.0.0,>=2.4.3 in /usr/local/lib/python3.10/dist-packages (from spacy<3.6.0,>=3.5.0->en-core-web-lg==3.5.0) (2.4.6)\n",
            "Requirement already satisfied: catalogue<2.1.0,>=2.0.6 in /usr/local/lib/python3.10/dist-packages (from spacy<3.6.0,>=3.5.0->en-core-web-lg==3.5.0) (2.0.8)\n",
            "Requirement already satisfied: typer<0.8.0,>=0.3.0 in /usr/local/lib/python3.10/dist-packages (from spacy<3.6.0,>=3.5.0->en-core-web-lg==3.5.0) (0.7.0)\n",
            "Requirement already satisfied: pathy>=0.10.0 in /usr/local/lib/python3.10/dist-packages (from spacy<3.6.0,>=3.5.0->en-core-web-lg==3.5.0) (0.10.1)\n",
            "Requirement already satisfied: smart-open<7.0.0,>=5.2.1 in /usr/local/lib/python3.10/dist-packages (from spacy<3.6.0,>=3.5.0->en-core-web-lg==3.5.0) (6.3.0)\n",
            "Requirement already satisfied: tqdm<5.0.0,>=4.38.0 in /usr/local/lib/python3.10/dist-packages (from spacy<3.6.0,>=3.5.0->en-core-web-lg==3.5.0) (4.65.0)\n",
            "Requirement already satisfied: numpy>=1.15.0 in /usr/local/lib/python3.10/dist-packages (from spacy<3.6.0,>=3.5.0->en-core-web-lg==3.5.0) (1.22.4)\n",
            "Requirement already satisfied: requests<3.0.0,>=2.13.0 in /usr/local/lib/python3.10/dist-packages (from spacy<3.6.0,>=3.5.0->en-core-web-lg==3.5.0) (2.27.1)\n",
            "Requirement already satisfied: pydantic!=1.8,!=1.8.1,<1.11.0,>=1.7.4 in /usr/local/lib/python3.10/dist-packages (from spacy<3.6.0,>=3.5.0->en-core-web-lg==3.5.0) (1.10.7)\n",
            "Requirement already satisfied: jinja2 in /usr/local/lib/python3.10/dist-packages (from spacy<3.6.0,>=3.5.0->en-core-web-lg==3.5.0) (3.1.2)\n",
            "Requirement already satisfied: setuptools in /usr/local/lib/python3.10/dist-packages (from spacy<3.6.0,>=3.5.0->en-core-web-lg==3.5.0) (67.7.2)\n",
            "Requirement already satisfied: packaging>=20.0 in /usr/local/lib/python3.10/dist-packages (from spacy<3.6.0,>=3.5.0->en-core-web-lg==3.5.0) (23.1)\n",
            "Requirement already satisfied: langcodes<4.0.0,>=3.2.0 in /usr/local/lib/python3.10/dist-packages (from spacy<3.6.0,>=3.5.0->en-core-web-lg==3.5.0) (3.3.0)\n",
            "Requirement already satisfied: typing-extensions>=4.2.0 in /usr/local/lib/python3.10/dist-packages (from pydantic!=1.8,!=1.8.1,<1.11.0,>=1.7.4->spacy<3.6.0,>=3.5.0->en-core-web-lg==3.5.0) (4.5.0)\n",
            "Requirement already satisfied: urllib3<1.27,>=1.21.1 in /usr/local/lib/python3.10/dist-packages (from requests<3.0.0,>=2.13.0->spacy<3.6.0,>=3.5.0->en-core-web-lg==3.5.0) (1.26.15)\n",
            "Requirement already satisfied: certifi>=2017.4.17 in /usr/local/lib/python3.10/dist-packages (from requests<3.0.0,>=2.13.0->spacy<3.6.0,>=3.5.0->en-core-web-lg==3.5.0) (2022.12.7)\n",
            "Requirement already satisfied: charset-normalizer~=2.0.0 in /usr/local/lib/python3.10/dist-packages (from requests<3.0.0,>=2.13.0->spacy<3.6.0,>=3.5.0->en-core-web-lg==3.5.0) (2.0.12)\n",
            "Requirement already satisfied: idna<4,>=2.5 in /usr/local/lib/python3.10/dist-packages (from requests<3.0.0,>=2.13.0->spacy<3.6.0,>=3.5.0->en-core-web-lg==3.5.0) (3.4)\n",
            "Requirement already satisfied: blis<0.8.0,>=0.7.8 in /usr/local/lib/python3.10/dist-packages (from thinc<8.2.0,>=8.1.8->spacy<3.6.0,>=3.5.0->en-core-web-lg==3.5.0) (0.7.9)\n",
            "Requirement already satisfied: confection<1.0.0,>=0.0.1 in /usr/local/lib/python3.10/dist-packages (from thinc<8.2.0,>=8.1.8->spacy<3.6.0,>=3.5.0->en-core-web-lg==3.5.0) (0.0.4)\n",
            "Requirement already satisfied: click<9.0.0,>=7.1.1 in /usr/local/lib/python3.10/dist-packages (from typer<0.8.0,>=0.3.0->spacy<3.6.0,>=3.5.0->en-core-web-lg==3.5.0) (8.1.3)\n",
            "Requirement already satisfied: MarkupSafe>=2.0 in /usr/local/lib/python3.10/dist-packages (from jinja2->spacy<3.6.0,>=3.5.0->en-core-web-lg==3.5.0) (2.1.2)\n",
            "Installing collected packages: en-core-web-lg\n",
            "Successfully installed en-core-web-lg-3.5.0\n",
            "\u001b[38;5;2m✔ Download and installation successful\u001b[0m\n",
            "You can now load the package via spacy.load('en_core_web_lg')\n"
          ]
        }
      ]
    },
    {
      "cell_type": "code",
      "source": [],
      "metadata": {
        "id": "oHbyryPh1E03"
      },
      "execution_count": null,
      "outputs": []
    },
    {
      "cell_type": "code",
      "source": [],
      "metadata": {
        "id": "4naResaF1E2S"
      },
      "execution_count": null,
      "outputs": []
    },
    {
      "cell_type": "code",
      "source": [],
      "metadata": {
        "id": "pNs7RKby1E5h"
      },
      "execution_count": null,
      "outputs": []
    },
    {
      "cell_type": "markdown",
      "source": [
        "# Stemming and Lemmatization"
      ],
      "metadata": {
        "id": "9FQfKiJK7F5E"
      }
    },
    {
      "cell_type": "code",
      "source": [
        "import nltk\n",
        "from nltk.stem.porter import PorterStemmer\n",
        "from nltk.stem.snowball import SnowballStemmer"
      ],
      "metadata": {
        "id": "p4NOMRXw1E66"
      },
      "execution_count": null,
      "outputs": []
    },
    {
      "cell_type": "code",
      "source": [
        "words=[\"running\",\"ran\",\"runs\",\"easily\",\"fairly\"]\n",
        "\n",
        "p_stemmer=PorterStemmer()\n",
        "s_stemmer=SnowballStemmer(language='english')\n",
        "\n",
        "for word in words:\n",
        "  print(word+\"-----porter---\"+p_stemmer.stem(word))\n",
        "  print(word+\"-----snowball-\"+s_stemmer.stem(word))"
      ],
      "metadata": {
        "colab": {
          "base_uri": "https://localhost:8080/"
        },
        "id": "b3jziupq1E-z",
        "outputId": "0d47a694-3072-4f88-a255-efd82339c7ee"
      },
      "execution_count": null,
      "outputs": [
        {
          "output_type": "stream",
          "name": "stdout",
          "text": [
            "running-----porter---run\n",
            "running-----snowball-run\n",
            "ran-----porter---ran\n",
            "ran-----snowball-ran\n",
            "runs-----porter---run\n",
            "runs-----snowball-run\n",
            "easily-----porter---easili\n",
            "easily-----snowball-easili\n",
            "fairly-----porter---fairli\n",
            "fairly-----snowball-fair\n"
          ]
        }
      ]
    },
    {
      "cell_type": "markdown",
      "source": [
        "**Lemmatization**"
      ],
      "metadata": {
        "id": "Ycmi3Ovj_Uqe"
      }
    },
    {
      "cell_type": "code",
      "source": [
        "doc = nlp(\"The striped bats are hanging on their feet for best\")\n",
        "for word in doc:\n",
        "  print(word.text+\"----lemma---\"+word.lemma_)"
      ],
      "metadata": {
        "colab": {
          "base_uri": "https://localhost:8080/"
        },
        "id": "PzUW85e798QN",
        "outputId": "69fad5f0-5361-4118-b05f-8b51f31b979f"
      },
      "execution_count": null,
      "outputs": [
        {
          "output_type": "stream",
          "name": "stdout",
          "text": [
            "The----lemma---the\n",
            "striped----lemma---stripe\n",
            "bats----lemma---bat\n",
            "are----lemma---be\n",
            "hanging----lemma---hang\n",
            "on----lemma---on\n",
            "their----lemma---their\n",
            "feet----lemma---foot\n",
            "for----lemma---for\n",
            "best----lemma---good\n"
          ]
        }
      ]
    },
    {
      "cell_type": "markdown",
      "source": [
        "**Stop word removal**"
      ],
      "metadata": {
        "id": "xvELZPsxMJ7l"
      }
    },
    {
      "cell_type": "code",
      "source": [
        "print(nlp.Defaults.stop_words)\n",
        "len(nlp.Defaults.stop_words)"
      ],
      "metadata": {
        "colab": {
          "base_uri": "https://localhost:8080/"
        },
        "id": "gEauqcJrMIol",
        "outputId": "9325c8a8-f3f8-4014-8338-92131697691d"
      },
      "execution_count": null,
      "outputs": [
        {
          "output_type": "stream",
          "name": "stdout",
          "text": [
            "{'anyone', 'sometime', 'please', 'also', 'herself', 'in', 'whoever', 'nowhere', \"'ll\", 'every', 'might', 'onto', 'many', 'indeed', 'serious', 'even', 'alone', 'no', 'whither', 'side', 'neither', 'these', 'any', 'name', 'seeming', 'than', 'unless', 'what', 'well', 'off', 'front', 'towards', 'go', 'seems', 'using', 'did', 'twenty', 'up', 'thru', 'wherein', \"'re\", 'five', 'she', 'third', 'above', 'him', 'about', 'get', 'now', 'seemed', 'together', 'to', 'one', 'often', 'whole', 'here', 'our', 'formerly', 'becomes', 'across', 'three', '‘s', 'i', 'are', 'whereas', 'themselves', 'eight', 'they', 'per', 'behind', 'n’t', 'can', 'six', 'will', 'there', 'therein', 'could', 'anyhow', 'already', 'during', 'none', 'fifty', 'whatever', 'beyond', 'by', 'nothing', 'something', '’ll', 'down', 'a', 'whereupon', '‘re', 'over', 'whom', '’re', 'be', 'until', 'for', 'most', 'whence', 'whenever', 'various', 'four', 'say', 'became', 'somehow', 'so', 'else', 'rather', 'others', 'nobody', 're', 'move', 'less', 'almost', 'he', 'put', 'become', \"'d\", 'sometimes', 'otherwise', 'such', 'former', 'last', 'why', 'am', 'just', 'within', 'take', 'but', 'although', 'between', 'where', 'thereupon', 'hence', 'regarding', 'very', 'call', 'whereafter', 'show', 'twelve', 'perhaps', 'again', 'part', 'upon', '’s', 'everywhere', 'hereupon', 'me', 'whether', 'meanwhile', 'under', 'mostly', 'along', 'much', 'the', 'have', 'sixty', 'own', 'becoming', 'itself', 'hers', 'as', 'while', 'may', 'myself', 'herein', 'fifteen', 'was', 'hereafter', 'her', 'someone', 'keep', '’m', 'of', 'nine', 'all', 'though', \"'m\", 'into', '‘ve', 'cannot', 'each', 'thus', 'same', 'at', 'mine', 'except', 'throughout', 'two', 'we', 'however', 'himself', 'when', 'only', 'anything', 'another', 'his', 'other', 'does', 'or', 'empty', 'done', 'top', 'then', 'ten', 'yours', 'latter', 'ours', 'from', 'first', 'whose', 'your', 'both', 'my', 'you', 'on', 'had', 'has', 'anywhere', 'were', 'how', '’d', 'everyone', 'always', '‘m', 'hundred', 'is', 'it', '‘ll', 'thence', 'few', 'too', 'which', 'forty', 'not', 'several', 'once', 'must', 'next', 'do', 'thereafter', 'amongst', 'us', \"n't\", 'those', 'with', 'would', 'among', 'beforehand', 'around', 'out', 'through', 'after', 'ourselves', 'yourselves', 'doing', 'because', \"'s\", 'if', 'see', \"'ve\", 'toward', 'being', 'full', 'enough', 'ever', 'this', 'everything', 'some', 'still', 'been', 'never', '‘d', 'bottom', 'whereby', 'least', 'thereby', 'them', 'should', 'anyway', 'quite', 'besides', 'hereby', 'who', 'via', 'moreover', 'therefore', 'further', 'nor', 'against', 'nevertheless', 'yourself', 'before', 'below', 'wherever', 'namely', 'its', 'and', 'used', 'latterly', 'back', 'either', 'since', 'somewhere', 'due', 'beside', 'amount', 'really', 'n‘t', 'afterwards', 'their', 'made', 'eleven', 'noone', 'yet', 'more', 'ca', 'make', 'elsewhere', 'an', 'give', 'that', 'seem', '’ve', 'without'}\n"
          ]
        },
        {
          "output_type": "execute_result",
          "data": {
            "text/plain": [
              "326"
            ]
          },
          "metadata": {},
          "execution_count": 14
        }
      ]
    },
    {
      "cell_type": "code",
      "source": [
        "print(nlp1.Defaults.stop_words)\n",
        "len(nlp1.Defaults.stop_words)"
      ],
      "metadata": {
        "colab": {
          "base_uri": "https://localhost:8080/"
        },
        "id": "leyUh6gfMI1z",
        "outputId": "93c4a9c9-58d4-4e93-ad0d-5f06a76b2b81"
      },
      "execution_count": null,
      "outputs": [
        {
          "output_type": "stream",
          "name": "stdout",
          "text": [
            "{'anyone', 'sometime', 'please', 'also', 'herself', 'in', 'whoever', 'nowhere', \"'ll\", 'every', 'might', 'onto', 'many', 'indeed', 'serious', 'even', 'alone', 'no', 'whither', 'side', 'neither', 'these', 'any', 'name', 'seeming', 'than', 'unless', 'what', 'well', 'off', 'front', 'towards', 'go', 'seems', 'using', 'did', 'twenty', 'up', 'thru', 'wherein', \"'re\", 'five', 'she', 'third', 'above', 'him', 'about', 'get', 'now', 'seemed', 'together', 'to', 'one', 'often', 'whole', 'here', 'our', 'formerly', 'becomes', 'across', 'three', '‘s', 'i', 'are', 'whereas', 'themselves', 'eight', 'they', 'per', 'behind', 'n’t', 'can', 'six', 'will', 'there', 'therein', 'could', 'anyhow', 'already', 'during', 'none', 'fifty', 'whatever', 'beyond', 'by', 'nothing', 'something', '’ll', 'down', 'a', 'whereupon', '‘re', 'over', 'whom', '’re', 'be', 'until', 'for', 'most', 'whence', 'whenever', 'various', 'four', 'say', 'became', 'somehow', 'so', 'else', 'rather', 'others', 'nobody', 're', 'move', 'less', 'almost', 'he', 'put', 'become', \"'d\", 'sometimes', 'otherwise', 'such', 'former', 'last', 'why', 'am', 'just', 'within', 'take', 'but', 'although', 'between', 'where', 'thereupon', 'hence', 'regarding', 'very', 'call', 'whereafter', 'show', 'twelve', 'perhaps', 'again', 'part', 'upon', '’s', 'everywhere', 'hereupon', 'me', 'whether', 'meanwhile', 'under', 'mostly', 'along', 'much', 'the', 'have', 'sixty', 'own', 'becoming', 'itself', 'hers', 'as', 'while', 'may', 'myself', 'herein', 'fifteen', 'was', 'hereafter', 'her', 'someone', 'keep', '’m', 'of', 'nine', 'all', 'though', \"'m\", 'into', '‘ve', 'cannot', 'each', 'thus', 'same', 'at', 'mine', 'except', 'throughout', 'two', 'we', 'however', 'himself', 'when', 'only', 'anything', 'another', 'his', 'other', 'does', 'or', 'empty', 'done', 'top', 'then', 'ten', 'yours', 'latter', 'ours', 'from', 'first', 'whose', 'your', 'both', 'my', 'you', 'on', 'had', 'has', 'anywhere', 'were', 'how', '’d', 'everyone', 'always', '‘m', 'hundred', 'is', 'it', '‘ll', 'thence', 'few', 'too', 'which', 'forty', 'not', 'several', 'once', 'must', 'next', 'do', 'thereafter', 'amongst', 'us', \"n't\", 'those', 'with', 'would', 'among', 'beforehand', 'around', 'out', 'through', 'after', 'ourselves', 'yourselves', 'doing', 'because', \"'s\", 'if', 'see', \"'ve\", 'toward', 'being', 'full', 'enough', 'ever', 'this', 'everything', 'some', 'still', 'been', 'never', '‘d', 'bottom', 'whereby', 'least', 'thereby', 'them', 'should', 'anyway', 'quite', 'besides', 'hereby', 'who', 'via', 'moreover', 'therefore', 'further', 'nor', 'against', 'nevertheless', 'yourself', 'before', 'below', 'wherever', 'namely', 'its', 'and', 'used', 'latterly', 'back', 'either', 'since', 'somewhere', 'due', 'beside', 'amount', 'really', 'n‘t', 'afterwards', 'their', 'made', 'eleven', 'noone', 'yet', 'more', 'ca', 'make', 'elsewhere', 'an', 'give', 'that', 'seem', '’ve', 'without'}\n"
          ]
        },
        {
          "output_type": "execute_result",
          "data": {
            "text/plain": [
              "326"
            ]
          },
          "metadata": {},
          "execution_count": 15
        }
      ]
    },
    {
      "cell_type": "code",
      "source": [
        "import en_core_web_lg\n",
        "nlp2=en_core_web_lg.load()\n",
        "print(nlp2.Defaults.stop_words)\n",
        "len(nlp2.Defaults.stop_words)"
      ],
      "metadata": {
        "colab": {
          "base_uri": "https://localhost:8080/"
        },
        "id": "N_kEFuerMrAe",
        "outputId": "3c9a622c-d9a9-465b-d6a8-254171c9b2fe"
      },
      "execution_count": null,
      "outputs": [
        {
          "output_type": "stream",
          "name": "stdout",
          "text": [
            "{'anyone', 'sometime', 'please', 'also', 'herself', 'in', 'whoever', 'nowhere', \"'ll\", 'every', 'might', 'onto', 'many', 'indeed', 'serious', 'even', 'alone', 'no', 'whither', 'side', 'neither', 'these', 'any', 'name', 'seeming', 'than', 'unless', 'what', 'well', 'off', 'front', 'towards', 'go', 'seems', 'using', 'did', 'twenty', 'up', 'thru', 'wherein', \"'re\", 'five', 'she', 'third', 'above', 'him', 'about', 'get', 'now', 'seemed', 'together', 'to', 'one', 'often', 'whole', 'here', 'our', 'formerly', 'becomes', 'across', 'three', '‘s', 'i', 'are', 'whereas', 'themselves', 'eight', 'they', 'per', 'behind', 'n’t', 'can', 'six', 'will', 'there', 'therein', 'could', 'anyhow', 'already', 'during', 'none', 'fifty', 'whatever', 'beyond', 'by', 'nothing', 'something', '’ll', 'down', 'a', 'whereupon', '‘re', 'over', 'whom', '’re', 'be', 'until', 'for', 'most', 'whence', 'whenever', 'various', 'four', 'say', 'became', 'somehow', 'so', 'else', 'rather', 'others', 'nobody', 're', 'move', 'less', 'almost', 'he', 'put', 'become', \"'d\", 'sometimes', 'otherwise', 'such', 'former', 'last', 'why', 'am', 'just', 'within', 'take', 'but', 'although', 'between', 'where', 'thereupon', 'hence', 'regarding', 'very', 'call', 'whereafter', 'show', 'twelve', 'perhaps', 'again', 'part', 'upon', '’s', 'everywhere', 'hereupon', 'me', 'whether', 'meanwhile', 'under', 'mostly', 'along', 'much', 'the', 'have', 'sixty', 'own', 'becoming', 'itself', 'hers', 'as', 'while', 'may', 'myself', 'herein', 'fifteen', 'was', 'hereafter', 'her', 'someone', 'keep', '’m', 'of', 'nine', 'all', 'though', \"'m\", 'into', '‘ve', 'cannot', 'each', 'thus', 'same', 'at', 'mine', 'except', 'throughout', 'two', 'we', 'however', 'himself', 'when', 'only', 'anything', 'another', 'his', 'other', 'does', 'or', 'empty', 'done', 'top', 'then', 'ten', 'yours', 'latter', 'ours', 'from', 'first', 'whose', 'your', 'both', 'my', 'you', 'on', 'had', 'has', 'anywhere', 'were', 'how', '’d', 'everyone', 'always', '‘m', 'hundred', 'is', 'it', '‘ll', 'thence', 'few', 'too', 'which', 'forty', 'not', 'several', 'once', 'must', 'next', 'do', 'thereafter', 'amongst', 'us', \"n't\", 'those', 'with', 'would', 'among', 'beforehand', 'around', 'out', 'through', 'after', 'ourselves', 'yourselves', 'doing', 'because', \"'s\", 'if', 'see', \"'ve\", 'toward', 'being', 'full', 'enough', 'ever', 'this', 'everything', 'some', 'still', 'been', 'never', '‘d', 'bottom', 'whereby', 'least', 'thereby', 'them', 'should', 'anyway', 'quite', 'besides', 'hereby', 'who', 'via', 'moreover', 'therefore', 'further', 'nor', 'against', 'nevertheless', 'yourself', 'before', 'below', 'wherever', 'namely', 'its', 'and', 'used', 'latterly', 'back', 'either', 'since', 'somewhere', 'due', 'beside', 'amount', 'really', 'n‘t', 'afterwards', 'their', 'made', 'eleven', 'noone', 'yet', 'more', 'ca', 'make', 'elsewhere', 'an', 'give', 'that', 'seem', '’ve', 'without'}\n"
          ]
        },
        {
          "output_type": "execute_result",
          "data": {
            "text/plain": [
              "326"
            ]
          },
          "metadata": {},
          "execution_count": 16
        }
      ]
    },
    {
      "cell_type": "markdown",
      "source": [
        "**Adding stop word**"
      ],
      "metadata": {
        "id": "GBV7JWoHNyMn"
      }
    },
    {
      "cell_type": "code",
      "source": [
        "nlp.Defaults.stop_words.add('Finance')\n",
        "len(nlp1.Defaults.stop_words)"
      ],
      "metadata": {
        "colab": {
          "base_uri": "https://localhost:8080/"
        },
        "id": "_UTmkosSNXL8",
        "outputId": "f0836c51-94e6-4c2e-d4df-e77e81394483"
      },
      "execution_count": null,
      "outputs": [
        {
          "output_type": "execute_result",
          "data": {
            "text/plain": [
              "327"
            ]
          },
          "metadata": {},
          "execution_count": 17
        }
      ]
    },
    {
      "cell_type": "markdown",
      "source": [
        "**Removinng Stop word**"
      ],
      "metadata": {
        "id": "9W5l9QLZSuuA"
      }
    },
    {
      "cell_type": "code",
      "source": [
        "nlp.Defaults.stop_words.remove('Finance')\n",
        "print(len(nlp.Defaults.stop_words))\n",
        "\n",
        "nlp.vocab['Finance'].is_stop"
      ],
      "metadata": {
        "colab": {
          "base_uri": "https://localhost:8080/"
        },
        "id": "nwB6S7obNvtZ",
        "outputId": "3657104e-e2b3-4977-99f6-83f2935d038c"
      },
      "execution_count": null,
      "outputs": [
        {
          "output_type": "stream",
          "name": "stdout",
          "text": [
            "326\n"
          ]
        },
        {
          "output_type": "execute_result",
          "data": {
            "text/plain": [
              "False"
            ]
          },
          "metadata": {},
          "execution_count": 18
        }
      ]
    },
    {
      "cell_type": "markdown",
      "source": [
        "**Vocabulary Matching**"
      ],
      "metadata": {
        "id": "wHnoxgOQbF9N"
      }
    },
    {
      "cell_type": "code",
      "source": [
        "from spacy.matcher import Matcher\n",
        "matcher=Matcher(nlp.vocab)\n",
        "pattern1 = [{'LOWER': 'hello'},{'LOWER': 'world'}]\n",
        "pattern2=[{'LOWER': 'hello'},{'IS_PUNCT': True},{'LOWER': 'world'}]\n",
        "matcher.add('Hello World',[pattern1,pattern2])\n",
        "doc = nlp(\" 'Hello World' are the first two printed words for Hello WORLD most of the programmers, printing 'Hello-World' is most common for beginners\")\n",
        "find_matches=matcher(doc)\n",
        "print(find_matches)\n",
        "\n",
        "\n"
      ],
      "metadata": {
        "id": "el8SS-_aNXc9",
        "colab": {
          "base_uri": "https://localhost:8080/"
        },
        "outputId": "c29bea2c-0e6e-4a5b-82c3-cfe549836280"
      },
      "execution_count": null,
      "outputs": [
        {
          "output_type": "stream",
          "name": "stdout",
          "text": [
            "[(8585552006568828647, 2, 4), (8585552006568828647, 12, 14), (8585552006568828647, 21, 24)]\n"
          ]
        }
      ]
    },
    {
      "cell_type": "code",
      "source": [
        "for match_id,start,end in find_matches:\n",
        "  string_id=nlp.vocab.strings[match_id]\n",
        "  span=doc[start:end]\n",
        "  print(match_id,string_id,start,end,span)"
      ],
      "metadata": {
        "colab": {
          "base_uri": "https://localhost:8080/"
        },
        "id": "2yQSbBwibLTn",
        "outputId": "43e653f0-e209-45f4-e960-466b4ae1aee7"
      },
      "execution_count": null,
      "outputs": [
        {
          "output_type": "stream",
          "name": "stdout",
          "text": [
            "8585552006568828647 Hello World 2 4 Hello World\n",
            "8585552006568828647 Hello World 12 14 Hello WORLD\n",
            "8585552006568828647 Hello World 21 24 Hello-World\n"
          ]
        }
      ]
    },
    {
      "cell_type": "markdown",
      "source": [
        "**Phrase Matcher**"
      ],
      "metadata": {
        "id": "3NbQ6STbjMqq"
      }
    },
    {
      "cell_type": "code",
      "source": [
        "from spacy.matcher import PhraseMatcher\n",
        "matcher=PhraseMatcher(nlp.vocab)\n",
        "phrase_list = [\"Barack Obama\", \"Angela Merkel\", \"Washington, D.C.\"]\n",
        "phrase_patterns=[nlp(text) for text in phrase_list]\n",
        "print(phrase_patterns)\n",
        "\n",
        "matcher.add(\"terminology\",None,*phrase_patterns)"
      ],
      "metadata": {
        "colab": {
          "base_uri": "https://localhost:8080/"
        },
        "id": "Fi2-HODvbLXX",
        "outputId": "1f47aeaf-6ab9-4b10-8a30-ccac664c8d76"
      },
      "execution_count": null,
      "outputs": [
        {
          "output_type": "stream",
          "name": "stdout",
          "text": [
            "[Barack Obama, Angela Merkel, Washington, D.C.]\n"
          ]
        }
      ]
    },
    {
      "cell_type": "code",
      "source": [
        "doc_3 = nlp(\"German Chancellor Angela Merkel and US President Barack Obama \" \"converse in the Oval Office inside the White House in Washington, D.C.\")"
      ],
      "metadata": {
        "id": "TUl4HIkdbLYs"
      },
      "execution_count": null,
      "outputs": []
    },
    {
      "cell_type": "code",
      "source": [
        "\n",
        "find_matches=matcher(doc_3)\n",
        "print(find_matches)"
      ],
      "metadata": {
        "colab": {
          "base_uri": "https://localhost:8080/"
        },
        "id": "lV6oq0pCbLcz",
        "outputId": "0fb86d2a-0ee2-49c7-a121-759080409cbd"
      },
      "execution_count": null,
      "outputs": [
        {
          "output_type": "stream",
          "name": "stdout",
          "text": [
            "[(14795493746145778174, 2, 4), (14795493746145778174, 7, 9), (14795493746145778174, 19, 22)]\n"
          ]
        }
      ]
    },
    {
      "cell_type": "markdown",
      "source": [
        "**Parts of Speech tagging**"
      ],
      "metadata": {
        "id": "-cZTzY3iiDth"
      }
    },
    {
      "cell_type": "code",
      "source": [
        "s1 = \"Apple is looking at buying U.K. startup for $1 billion\"\n",
        "doc=nlp(s1)\n",
        "for token in doc:\n",
        "  print(token.text,token.pos_,token.tag_,spacy.explain(token.tag_))"
      ],
      "metadata": {
        "id": "eMlaGXvQbLeZ",
        "colab": {
          "base_uri": "https://localhost:8080/"
        },
        "outputId": "8667f0b0-d6d4-46f8-c54a-d9d00f617c7c"
      },
      "execution_count": null,
      "outputs": [
        {
          "output_type": "stream",
          "name": "stdout",
          "text": [
            "Apple PROPN NNP noun, proper singular\n",
            "is AUX VBZ verb, 3rd person singular present\n",
            "looking VERB VBG verb, gerund or present participle\n",
            "at ADP IN conjunction, subordinating or preposition\n",
            "buying VERB VBG verb, gerund or present participle\n",
            "U.K. PROPN NNP noun, proper singular\n",
            "startup NOUN NN noun, singular or mass\n",
            "for ADP IN conjunction, subordinating or preposition\n",
            "$ SYM $ symbol, currency\n",
            "1 NUM CD cardinal number\n",
            "billion NUM CD cardinal number\n"
          ]
        }
      ]
    },
    {
      "cell_type": "code",
      "source": [
        "for key,val in doc.count_by(spacy.attrs.POS).items():\n",
        "  print(key,doc.vocab[key].text,val)"
      ],
      "metadata": {
        "id": "F3bazn_bbLih",
        "colab": {
          "base_uri": "https://localhost:8080/"
        },
        "outputId": "3e81f75b-592e-4d66-b4e2-3529224eec4c"
      },
      "execution_count": null,
      "outputs": [
        {
          "output_type": "stream",
          "name": "stdout",
          "text": [
            "96 PROPN 2\n",
            "87 AUX 1\n",
            "100 VERB 2\n",
            "85 ADP 2\n",
            "92 NOUN 1\n",
            "99 SYM 1\n",
            "93 NUM 2\n"
          ]
        }
      ]
    },
    {
      "cell_type": "code",
      "source": [
        "from spacy import displacy\n",
        "displacy.render(docs=doc,style='dep',options={'distance':80},jupyter=True)"
      ],
      "metadata": {
        "id": "35p35qPTNXoP",
        "colab": {
          "base_uri": "https://localhost:8080/",
          "height": 278
        },
        "outputId": "7763c8de-b392-4451-86ef-9e4dcc0c2dba"
      },
      "execution_count": null,
      "outputs": [
        {
          "output_type": "display_data",
          "data": {
            "text/plain": [
              "<IPython.core.display.HTML object>"
            ],
            "text/html": [
              "<span class=\"tex2jax_ignore\"><svg xmlns=\"http://www.w3.org/2000/svg\" xmlns:xlink=\"http://www.w3.org/1999/xlink\" xml:lang=\"en\" id=\"9fccc56cf3ba46e0a6a9e9400d2382dd-0\" class=\"displacy\" width=\"930\" height=\"257.0\" direction=\"ltr\" style=\"max-width: none; height: 257.0px; color: #000000; background: #ffffff; font-family: Arial; direction: ltr\">\n",
              "<text class=\"displacy-token\" fill=\"currentColor\" text-anchor=\"middle\" y=\"167.0\">\n",
              "    <tspan class=\"displacy-word\" fill=\"currentColor\" x=\"50\">Apple</tspan>\n",
              "    <tspan class=\"displacy-tag\" dy=\"2em\" fill=\"currentColor\" x=\"50\">PROPN</tspan>\n",
              "</text>\n",
              "\n",
              "<text class=\"displacy-token\" fill=\"currentColor\" text-anchor=\"middle\" y=\"167.0\">\n",
              "    <tspan class=\"displacy-word\" fill=\"currentColor\" x=\"130\">is</tspan>\n",
              "    <tspan class=\"displacy-tag\" dy=\"2em\" fill=\"currentColor\" x=\"130\">AUX</tspan>\n",
              "</text>\n",
              "\n",
              "<text class=\"displacy-token\" fill=\"currentColor\" text-anchor=\"middle\" y=\"167.0\">\n",
              "    <tspan class=\"displacy-word\" fill=\"currentColor\" x=\"210\">looking</tspan>\n",
              "    <tspan class=\"displacy-tag\" dy=\"2em\" fill=\"currentColor\" x=\"210\">VERB</tspan>\n",
              "</text>\n",
              "\n",
              "<text class=\"displacy-token\" fill=\"currentColor\" text-anchor=\"middle\" y=\"167.0\">\n",
              "    <tspan class=\"displacy-word\" fill=\"currentColor\" x=\"290\">at</tspan>\n",
              "    <tspan class=\"displacy-tag\" dy=\"2em\" fill=\"currentColor\" x=\"290\">ADP</tspan>\n",
              "</text>\n",
              "\n",
              "<text class=\"displacy-token\" fill=\"currentColor\" text-anchor=\"middle\" y=\"167.0\">\n",
              "    <tspan class=\"displacy-word\" fill=\"currentColor\" x=\"370\">buying</tspan>\n",
              "    <tspan class=\"displacy-tag\" dy=\"2em\" fill=\"currentColor\" x=\"370\">VERB</tspan>\n",
              "</text>\n",
              "\n",
              "<text class=\"displacy-token\" fill=\"currentColor\" text-anchor=\"middle\" y=\"167.0\">\n",
              "    <tspan class=\"displacy-word\" fill=\"currentColor\" x=\"450\">U.K.</tspan>\n",
              "    <tspan class=\"displacy-tag\" dy=\"2em\" fill=\"currentColor\" x=\"450\">PROPN</tspan>\n",
              "</text>\n",
              "\n",
              "<text class=\"displacy-token\" fill=\"currentColor\" text-anchor=\"middle\" y=\"167.0\">\n",
              "    <tspan class=\"displacy-word\" fill=\"currentColor\" x=\"530\">startup</tspan>\n",
              "    <tspan class=\"displacy-tag\" dy=\"2em\" fill=\"currentColor\" x=\"530\">NOUN</tspan>\n",
              "</text>\n",
              "\n",
              "<text class=\"displacy-token\" fill=\"currentColor\" text-anchor=\"middle\" y=\"167.0\">\n",
              "    <tspan class=\"displacy-word\" fill=\"currentColor\" x=\"610\">for</tspan>\n",
              "    <tspan class=\"displacy-tag\" dy=\"2em\" fill=\"currentColor\" x=\"610\">ADP</tspan>\n",
              "</text>\n",
              "\n",
              "<text class=\"displacy-token\" fill=\"currentColor\" text-anchor=\"middle\" y=\"167.0\">\n",
              "    <tspan class=\"displacy-word\" fill=\"currentColor\" x=\"690\">$</tspan>\n",
              "    <tspan class=\"displacy-tag\" dy=\"2em\" fill=\"currentColor\" x=\"690\">SYM</tspan>\n",
              "</text>\n",
              "\n",
              "<text class=\"displacy-token\" fill=\"currentColor\" text-anchor=\"middle\" y=\"167.0\">\n",
              "    <tspan class=\"displacy-word\" fill=\"currentColor\" x=\"770\">1</tspan>\n",
              "    <tspan class=\"displacy-tag\" dy=\"2em\" fill=\"currentColor\" x=\"770\">NUM</tspan>\n",
              "</text>\n",
              "\n",
              "<text class=\"displacy-token\" fill=\"currentColor\" text-anchor=\"middle\" y=\"167.0\">\n",
              "    <tspan class=\"displacy-word\" fill=\"currentColor\" x=\"850\">billion</tspan>\n",
              "    <tspan class=\"displacy-tag\" dy=\"2em\" fill=\"currentColor\" x=\"850\">NUM</tspan>\n",
              "</text>\n",
              "\n",
              "<g class=\"displacy-arrow\">\n",
              "    <path class=\"displacy-arc\" id=\"arrow-9fccc56cf3ba46e0a6a9e9400d2382dd-0-0\" stroke-width=\"2px\" d=\"M70,122.0 C70,42.0 205.0,42.0 205.0,122.0\" fill=\"none\" stroke=\"currentColor\"/>\n",
              "    <text dy=\"1.25em\" style=\"font-size: 0.8em; letter-spacing: 1px\">\n",
              "        <textPath xlink:href=\"#arrow-9fccc56cf3ba46e0a6a9e9400d2382dd-0-0\" class=\"displacy-label\" startOffset=\"50%\" side=\"left\" fill=\"currentColor\" text-anchor=\"middle\">nsubj</textPath>\n",
              "    </text>\n",
              "    <path class=\"displacy-arrowhead\" d=\"M70,124.0 L62,112.0 78,112.0\" fill=\"currentColor\"/>\n",
              "</g>\n",
              "\n",
              "<g class=\"displacy-arrow\">\n",
              "    <path class=\"displacy-arc\" id=\"arrow-9fccc56cf3ba46e0a6a9e9400d2382dd-0-1\" stroke-width=\"2px\" d=\"M150,122.0 C150,82.0 200.0,82.0 200.0,122.0\" fill=\"none\" stroke=\"currentColor\"/>\n",
              "    <text dy=\"1.25em\" style=\"font-size: 0.8em; letter-spacing: 1px\">\n",
              "        <textPath xlink:href=\"#arrow-9fccc56cf3ba46e0a6a9e9400d2382dd-0-1\" class=\"displacy-label\" startOffset=\"50%\" side=\"left\" fill=\"currentColor\" text-anchor=\"middle\">aux</textPath>\n",
              "    </text>\n",
              "    <path class=\"displacy-arrowhead\" d=\"M150,124.0 L142,112.0 158,112.0\" fill=\"currentColor\"/>\n",
              "</g>\n",
              "\n",
              "<g class=\"displacy-arrow\">\n",
              "    <path class=\"displacy-arc\" id=\"arrow-9fccc56cf3ba46e0a6a9e9400d2382dd-0-2\" stroke-width=\"2px\" d=\"M230,122.0 C230,82.0 280.0,82.0 280.0,122.0\" fill=\"none\" stroke=\"currentColor\"/>\n",
              "    <text dy=\"1.25em\" style=\"font-size: 0.8em; letter-spacing: 1px\">\n",
              "        <textPath xlink:href=\"#arrow-9fccc56cf3ba46e0a6a9e9400d2382dd-0-2\" class=\"displacy-label\" startOffset=\"50%\" side=\"left\" fill=\"currentColor\" text-anchor=\"middle\">prep</textPath>\n",
              "    </text>\n",
              "    <path class=\"displacy-arrowhead\" d=\"M280.0,124.0 L288.0,112.0 272.0,112.0\" fill=\"currentColor\"/>\n",
              "</g>\n",
              "\n",
              "<g class=\"displacy-arrow\">\n",
              "    <path class=\"displacy-arc\" id=\"arrow-9fccc56cf3ba46e0a6a9e9400d2382dd-0-3\" stroke-width=\"2px\" d=\"M310,122.0 C310,82.0 360.0,82.0 360.0,122.0\" fill=\"none\" stroke=\"currentColor\"/>\n",
              "    <text dy=\"1.25em\" style=\"font-size: 0.8em; letter-spacing: 1px\">\n",
              "        <textPath xlink:href=\"#arrow-9fccc56cf3ba46e0a6a9e9400d2382dd-0-3\" class=\"displacy-label\" startOffset=\"50%\" side=\"left\" fill=\"currentColor\" text-anchor=\"middle\">pcomp</textPath>\n",
              "    </text>\n",
              "    <path class=\"displacy-arrowhead\" d=\"M360.0,124.0 L368.0,112.0 352.0,112.0\" fill=\"currentColor\"/>\n",
              "</g>\n",
              "\n",
              "<g class=\"displacy-arrow\">\n",
              "    <path class=\"displacy-arc\" id=\"arrow-9fccc56cf3ba46e0a6a9e9400d2382dd-0-4\" stroke-width=\"2px\" d=\"M390,122.0 C390,82.0 440.0,82.0 440.0,122.0\" fill=\"none\" stroke=\"currentColor\"/>\n",
              "    <text dy=\"1.25em\" style=\"font-size: 0.8em; letter-spacing: 1px\">\n",
              "        <textPath xlink:href=\"#arrow-9fccc56cf3ba46e0a6a9e9400d2382dd-0-4\" class=\"displacy-label\" startOffset=\"50%\" side=\"left\" fill=\"currentColor\" text-anchor=\"middle\">dobj</textPath>\n",
              "    </text>\n",
              "    <path class=\"displacy-arrowhead\" d=\"M440.0,124.0 L448.0,112.0 432.0,112.0\" fill=\"currentColor\"/>\n",
              "</g>\n",
              "\n",
              "<g class=\"displacy-arrow\">\n",
              "    <path class=\"displacy-arc\" id=\"arrow-9fccc56cf3ba46e0a6a9e9400d2382dd-0-5\" stroke-width=\"2px\" d=\"M230,122.0 C230,42.0 525.0,42.0 525.0,122.0\" fill=\"none\" stroke=\"currentColor\"/>\n",
              "    <text dy=\"1.25em\" style=\"font-size: 0.8em; letter-spacing: 1px\">\n",
              "        <textPath xlink:href=\"#arrow-9fccc56cf3ba46e0a6a9e9400d2382dd-0-5\" class=\"displacy-label\" startOffset=\"50%\" side=\"left\" fill=\"currentColor\" text-anchor=\"middle\">dep</textPath>\n",
              "    </text>\n",
              "    <path class=\"displacy-arrowhead\" d=\"M525.0,124.0 L533.0,112.0 517.0,112.0\" fill=\"currentColor\"/>\n",
              "</g>\n",
              "\n",
              "<g class=\"displacy-arrow\">\n",
              "    <path class=\"displacy-arc\" id=\"arrow-9fccc56cf3ba46e0a6a9e9400d2382dd-0-6\" stroke-width=\"2px\" d=\"M550,122.0 C550,82.0 600.0,82.0 600.0,122.0\" fill=\"none\" stroke=\"currentColor\"/>\n",
              "    <text dy=\"1.25em\" style=\"font-size: 0.8em; letter-spacing: 1px\">\n",
              "        <textPath xlink:href=\"#arrow-9fccc56cf3ba46e0a6a9e9400d2382dd-0-6\" class=\"displacy-label\" startOffset=\"50%\" side=\"left\" fill=\"currentColor\" text-anchor=\"middle\">prep</textPath>\n",
              "    </text>\n",
              "    <path class=\"displacy-arrowhead\" d=\"M600.0,124.0 L608.0,112.0 592.0,112.0\" fill=\"currentColor\"/>\n",
              "</g>\n",
              "\n",
              "<g class=\"displacy-arrow\">\n",
              "    <path class=\"displacy-arc\" id=\"arrow-9fccc56cf3ba46e0a6a9e9400d2382dd-0-7\" stroke-width=\"2px\" d=\"M710,122.0 C710,42.0 845.0,42.0 845.0,122.0\" fill=\"none\" stroke=\"currentColor\"/>\n",
              "    <text dy=\"1.25em\" style=\"font-size: 0.8em; letter-spacing: 1px\">\n",
              "        <textPath xlink:href=\"#arrow-9fccc56cf3ba46e0a6a9e9400d2382dd-0-7\" class=\"displacy-label\" startOffset=\"50%\" side=\"left\" fill=\"currentColor\" text-anchor=\"middle\">quantmod</textPath>\n",
              "    </text>\n",
              "    <path class=\"displacy-arrowhead\" d=\"M710,124.0 L702,112.0 718,112.0\" fill=\"currentColor\"/>\n",
              "</g>\n",
              "\n",
              "<g class=\"displacy-arrow\">\n",
              "    <path class=\"displacy-arc\" id=\"arrow-9fccc56cf3ba46e0a6a9e9400d2382dd-0-8\" stroke-width=\"2px\" d=\"M790,122.0 C790,82.0 840.0,82.0 840.0,122.0\" fill=\"none\" stroke=\"currentColor\"/>\n",
              "    <text dy=\"1.25em\" style=\"font-size: 0.8em; letter-spacing: 1px\">\n",
              "        <textPath xlink:href=\"#arrow-9fccc56cf3ba46e0a6a9e9400d2382dd-0-8\" class=\"displacy-label\" startOffset=\"50%\" side=\"left\" fill=\"currentColor\" text-anchor=\"middle\">compound</textPath>\n",
              "    </text>\n",
              "    <path class=\"displacy-arrowhead\" d=\"M790,124.0 L782,112.0 798,112.0\" fill=\"currentColor\"/>\n",
              "</g>\n",
              "\n",
              "<g class=\"displacy-arrow\">\n",
              "    <path class=\"displacy-arc\" id=\"arrow-9fccc56cf3ba46e0a6a9e9400d2382dd-0-9\" stroke-width=\"2px\" d=\"M630,122.0 C630,2.0 850.0,2.0 850.0,122.0\" fill=\"none\" stroke=\"currentColor\"/>\n",
              "    <text dy=\"1.25em\" style=\"font-size: 0.8em; letter-spacing: 1px\">\n",
              "        <textPath xlink:href=\"#arrow-9fccc56cf3ba46e0a6a9e9400d2382dd-0-9\" class=\"displacy-label\" startOffset=\"50%\" side=\"left\" fill=\"currentColor\" text-anchor=\"middle\">pobj</textPath>\n",
              "    </text>\n",
              "    <path class=\"displacy-arrowhead\" d=\"M850.0,124.0 L858.0,112.0 842.0,112.0\" fill=\"currentColor\"/>\n",
              "</g>\n",
              "</svg></span>"
            ]
          },
          "metadata": {}
        }
      ]
    },
    {
      "cell_type": "markdown",
      "source": [
        "**Named Entity Recognition**"
      ],
      "metadata": {
        "id": "VGoroXnEsOSm"
      }
    },
    {
      "cell_type": "code",
      "source": [
        "s1 = \"Apple is looking at buying U.K. startup for $1 billion\"\n",
        "s2 = \"San Francisco considers banning sidewalk delivery robots\"\n",
        "s3 = \"facebook is hiring a new vice president in U.S.\""
      ],
      "metadata": {
        "id": "iGus063ksNSU"
      },
      "execution_count": null,
      "outputs": []
    },
    {
      "cell_type": "code",
      "source": [
        "print(s1)\n",
        "doc1=nlp(s1)\n",
        "for ent in doc1.ents:\n",
        "  print(ent.text,ent.label_,str(spacy.explain(ent.label_)))"
      ],
      "metadata": {
        "colab": {
          "base_uri": "https://localhost:8080/"
        },
        "id": "vI8olxdqsNfU",
        "outputId": "08413e2c-b45f-4023-9b18-245e00f10f30"
      },
      "execution_count": null,
      "outputs": [
        {
          "output_type": "stream",
          "name": "stdout",
          "text": [
            "Apple is looking at buying U.K. startup for $1 billion\n",
            "Apple ORG Companies, agencies, institutions, etc.\n",
            "U.K. GPE Countries, cities, states\n",
            "$1 billion MONEY Monetary values, including unit\n"
          ]
        }
      ]
    },
    {
      "cell_type": "code",
      "source": [
        "print(s2)\n",
        "doc2=nlp(s2)\n",
        "for ent in doc2.ents:\n",
        "  print(ent.text,ent.label_,str(spacy.explain(ent.label_)))"
      ],
      "metadata": {
        "colab": {
          "base_uri": "https://localhost:8080/"
        },
        "id": "jvLN6N1SsNgv",
        "outputId": "b45830d1-38db-4c75-94b5-983d7b720474"
      },
      "execution_count": null,
      "outputs": [
        {
          "output_type": "stream",
          "name": "stdout",
          "text": [
            "San Francisco considers banning sidewalk delivery robots\n",
            "San Francisco GPE Countries, cities, states\n"
          ]
        }
      ]
    },
    {
      "cell_type": "code",
      "source": [
        "print(s3)\n",
        "doc3=nlp(s3)\n",
        "for ent in doc3.ents:\n",
        "  print(ent.text,ent.label_,str(spacy.explain(ent.label_)))"
      ],
      "metadata": {
        "colab": {
          "base_uri": "https://localhost:8080/"
        },
        "id": "QcNS8UYtsNkf",
        "outputId": "82476b09-d3df-4636-fc40-feca6a24e5b6"
      },
      "execution_count": null,
      "outputs": [
        {
          "output_type": "stream",
          "name": "stdout",
          "text": [
            "facebook is hiring a new vice president in U.S.\n",
            "U.S. GPE Countries, cities, states\n"
          ]
        }
      ]
    },
    {
      "cell_type": "code",
      "source": [
        "ORG=doc3.vocab.strings['ORG']\n",
        "from spacy.tokens import Span\n",
        "new_ent=Span(doc3,0,1,label=ORG)\n",
        "doc3.ents=list(doc3.ents)+[new_ent]\n",
        "print(doc3.ents)"
      ],
      "metadata": {
        "colab": {
          "base_uri": "https://localhost:8080/"
        },
        "id": "02GkixBCsNmL",
        "outputId": "d9043077-dcf2-4f20-e783-dcc6b2bd1442"
      },
      "execution_count": null,
      "outputs": [
        {
          "output_type": "stream",
          "name": "stdout",
          "text": [
            "(facebook, U.S.)\n"
          ]
        }
      ]
    },
    {
      "cell_type": "code",
      "source": [
        "print(s3)\n",
        "for ent in doc3.ents:\n",
        "  print(ent.text,ent.label_,str(spacy.explain(ent.label_)))"
      ],
      "metadata": {
        "colab": {
          "base_uri": "https://localhost:8080/"
        },
        "id": "Tgvv6BbTsNpg",
        "outputId": "4e6b6373-eab6-4944-8d6f-ce21bed57771"
      },
      "execution_count": null,
      "outputs": [
        {
          "output_type": "stream",
          "name": "stdout",
          "text": [
            "facebook is hiring a new vice president in U.S.\n",
            "facebook ORG Companies, agencies, institutions, etc.\n",
            "U.S. GPE Countries, cities, states\n"
          ]
        }
      ]
    },
    {
      "cell_type": "code",
      "source": [
        "displacy.render(docs=doc3,style='ent',jupyter=True)\n",
        "\n",
        "displacy.render(docs=doc3,style='ent',options={'ents':['ORG']},jupyter=True)"
      ],
      "metadata": {
        "colab": {
          "base_uri": "https://localhost:8080/",
          "height": 87
        },
        "id": "Oi2aVDVysNsF",
        "outputId": "c10026c8-8608-4ca2-bf78-751361b25580"
      },
      "execution_count": null,
      "outputs": [
        {
          "output_type": "display_data",
          "data": {
            "text/plain": [
              "<IPython.core.display.HTML object>"
            ],
            "text/html": [
              "<span class=\"tex2jax_ignore\"><div class=\"entities\" style=\"line-height: 2.5; direction: ltr\">\n",
              "<mark class=\"entity\" style=\"background: #7aecec; padding: 0.45em 0.6em; margin: 0 0.25em; line-height: 1; border-radius: 0.35em;\">\n",
              "    facebook\n",
              "    <span style=\"font-size: 0.8em; font-weight: bold; line-height: 1; border-radius: 0.35em; vertical-align: middle; margin-left: 0.5rem\">ORG</span>\n",
              "</mark>\n",
              " is hiring a new vice president in \n",
              "<mark class=\"entity\" style=\"background: #feca74; padding: 0.45em 0.6em; margin: 0 0.25em; line-height: 1; border-radius: 0.35em;\">\n",
              "    U.S.\n",
              "    <span style=\"font-size: 0.8em; font-weight: bold; line-height: 1; border-radius: 0.35em; vertical-align: middle; margin-left: 0.5rem\">GPE</span>\n",
              "</mark>\n",
              "</div></span>"
            ]
          },
          "metadata": {}
        },
        {
          "output_type": "display_data",
          "data": {
            "text/plain": [
              "<IPython.core.display.HTML object>"
            ],
            "text/html": [
              "<span class=\"tex2jax_ignore\"><div class=\"entities\" style=\"line-height: 2.5; direction: ltr\">\n",
              "<mark class=\"entity\" style=\"background: #7aecec; padding: 0.45em 0.6em; margin: 0 0.25em; line-height: 1; border-radius: 0.35em;\">\n",
              "    facebook\n",
              "    <span style=\"font-size: 0.8em; font-weight: bold; line-height: 1; border-radius: 0.35em; vertical-align: middle; margin-left: 0.5rem\">ORG</span>\n",
              "</mark>\n",
              " is hiring a new vice president in U.S.</div></span>"
            ]
          },
          "metadata": {}
        }
      ]
    },
    {
      "cell_type": "markdown",
      "source": [
        "**Sentence segmentation**"
      ],
      "metadata": {
        "id": "_CbTPJxZzDeX"
      }
    },
    {
      "cell_type": "code",
      "source": [
        "s1 = \"This is a sentence. This is second sentence. This is last sentence.\"\n",
        "s2 = \"This is a sentence; This is second sentence; This is last sentence.\""
      ],
      "metadata": {
        "id": "jqhI8grmzCP0"
      },
      "execution_count": null,
      "outputs": []
    },
    {
      "cell_type": "code",
      "source": [
        "doc1=nlp(s1)\n",
        "for sent in doc1.sents:\n",
        "  print(sent)"
      ],
      "metadata": {
        "colab": {
          "base_uri": "https://localhost:8080/"
        },
        "id": "2n7F_-FVzCff",
        "outputId": "2aa46a8b-e9b2-450d-e4b7-667e5f190da2"
      },
      "execution_count": null,
      "outputs": [
        {
          "output_type": "stream",
          "name": "stdout",
          "text": [
            "This is a sentence.\n",
            "This is second sentence.\n",
            "This is last sentence.\n"
          ]
        }
      ]
    },
    {
      "cell_type": "code",
      "source": [
        "doc2=nlp(s2)\n",
        "for sent in doc2.sents:\n",
        "  print(sent)"
      ],
      "metadata": {
        "colab": {
          "base_uri": "https://localhost:8080/"
        },
        "id": "nwNq-ankzChG",
        "outputId": "bf9a6628-23e1-4477-ddee-0b86fea41be2"
      },
      "execution_count": null,
      "outputs": [
        {
          "output_type": "stream",
          "name": "stdout",
          "text": [
            "This is a sentence; This is second sentence; This is last sentence.\n"
          ]
        }
      ]
    },
    {
      "cell_type": "code",
      "source": [
        "nlp.pipe_names"
      ],
      "metadata": {
        "colab": {
          "base_uri": "https://localhost:8080/"
        },
        "id": "V0_JAfb013_1",
        "outputId": "21d80bbd-3564-4c77-a50e-7efd193e9526"
      },
      "execution_count": null,
      "outputs": [
        {
          "output_type": "execute_result",
          "data": {
            "text/plain": [
              "['tok2vec',\n",
              " 'tagger',\n",
              " 'custom_boundaries',\n",
              " 'parser',\n",
              " 'attribute_ruler',\n",
              " 'lemmatizer',\n",
              " 'ner']"
            ]
          },
          "metadata": {},
          "execution_count": 57
        }
      ]
    },
    {
      "cell_type": "code",
      "source": [
        "from spacy.language import Language\n",
        "\n",
        "@Language.component('custom_boundaries')\n",
        "def set_custom_boundaries(doc):\n",
        "    for token in doc:\n",
        "        if token.text == ';':\n",
        "            doc[token.i + 1].is_sent_start = True\n",
        "    return doc\n",
        "\n",
        "nlp.add_pipe('custom_boundaries', before='parser')\n"
      ],
      "metadata": {
        "id": "9YDFBIy8zCzI"
      },
      "execution_count": null,
      "outputs": []
    },
    {
      "cell_type": "code",
      "source": [
        "nlp.pipe_names"
      ],
      "metadata": {
        "colab": {
          "base_uri": "https://localhost:8080/"
        },
        "id": "nXAfh1MDzC1S",
        "outputId": "e5dcbaac-475a-4239-f192-76433bb3c271"
      },
      "execution_count": null,
      "outputs": [
        {
          "output_type": "execute_result",
          "data": {
            "text/plain": [
              "['tok2vec',\n",
              " 'tagger',\n",
              " 'custom_boundaries',\n",
              " 'parser',\n",
              " 'attribute_ruler',\n",
              " 'lemmatizer',\n",
              " 'ner']"
            ]
          },
          "metadata": {},
          "execution_count": 56
        }
      ]
    },
    {
      "cell_type": "code",
      "source": [
        "doc_2=nlp(s2)\n",
        "for sent in doc_2.sents:\n",
        "  print(sent)"
      ],
      "metadata": {
        "colab": {
          "base_uri": "https://localhost:8080/"
        },
        "id": "Qi8wS3_v19_j",
        "outputId": "01ae97be-7617-49c0-93b7-30fbc41aee23"
      },
      "execution_count": null,
      "outputs": [
        {
          "output_type": "stream",
          "name": "stdout",
          "text": [
            "This is a sentence;\n",
            "This is second sentence;\n",
            "This is last sentence.\n"
          ]
        }
      ]
    }
  ]
}