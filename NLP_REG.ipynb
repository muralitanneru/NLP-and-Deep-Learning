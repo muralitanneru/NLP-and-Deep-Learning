{
  "nbformat": 4,
  "nbformat_minor": 0,
  "metadata": {
    "colab": {
      "provenance": []
    },
    "kernelspec": {
      "name": "python3",
      "display_name": "Python 3"
    },
    "language_info": {
      "name": "python"
    }
  },
  "cells": [
    {
      "cell_type": "code",
      "execution_count": null,
      "metadata": {
        "id": "C2R7pYX0VJaj"
      },
      "outputs": [],
      "source": [
        "import re\n"
      ]
    },
    {
      "cell_type": "code",
      "source": [
        "myanimal=\"Type_Woodchuck\"\n",
        "re.search(\"wood.*chuck\",myanimal,re.IGNORECASE)"
      ],
      "metadata": {
        "colab": {
          "base_uri": "https://localhost:8080/"
        },
        "id": "GDyAEvlfVN_6",
        "outputId": "07a0a91f-4553-40e8-9a00-17e05d9a4424"
      },
      "execution_count": null,
      "outputs": [
        {
          "output_type": "execute_result",
          "data": {
            "text/plain": [
              "<re.Match object; span=(5, 14), match='Woodchuck'>"
            ]
          },
          "metadata": {},
          "execution_count": 2
        }
      ]
    },
    {
      "cell_type": "code",
      "source": [
        "re.search(\"wood.*chuck\",myanimal)"
      ],
      "metadata": {
        "id": "Evs3Dvi3YcEA"
      },
      "execution_count": null,
      "outputs": []
    },
    {
      "cell_type": "code",
      "source": [
        "re.search(\"[Ww]ood.*chuck\",myanimal)"
      ],
      "metadata": {
        "colab": {
          "base_uri": "https://localhost:8080/"
        },
        "id": "IwInUp2jVOBR",
        "outputId": "bf1319df-2f88-4a9a-84ed-b87698ab3d51"
      },
      "execution_count": null,
      "outputs": [
        {
          "output_type": "execute_result",
          "data": {
            "text/plain": [
              "<re.Match object; span=(5, 14), match='Woodchuck'>"
            ]
          },
          "metadata": {},
          "execution_count": 4
        }
      ]
    },
    {
      "cell_type": "code",
      "source": [
        "re.search(\"[A-Z]ood.*chuck\",myanimal)"
      ],
      "metadata": {
        "colab": {
          "base_uri": "https://localhost:8080/"
        },
        "id": "6_vlyqPNVOJq",
        "outputId": "e4c999f6-ceea-4836-e7fc-ff822a7d9018"
      },
      "execution_count": null,
      "outputs": [
        {
          "output_type": "execute_result",
          "data": {
            "text/plain": [
              "<re.Match object; span=(5, 14), match='Woodchuck'>"
            ]
          },
          "metadata": {},
          "execution_count": 5
        }
      ]
    },
    {
      "cell_type": "code",
      "source": [
        "re.search(\"[a-z]ood.*chuck\",myanimal)"
      ],
      "metadata": {
        "id": "hfmuA4VxVOK0"
      },
      "execution_count": null,
      "outputs": []
    },
    {
      "cell_type": "code",
      "source": [
        "myanimal=\"Type_9oodchuck\"\n"
      ],
      "metadata": {
        "id": "jp9SCfjTVOPd"
      },
      "execution_count": null,
      "outputs": []
    },
    {
      "cell_type": "code",
      "source": [
        "re.search(\"[0-9]ood.*chuck\",myanimal)"
      ],
      "metadata": {
        "colab": {
          "base_uri": "https://localhost:8080/"
        },
        "id": "-yqbXKpaVOQq",
        "outputId": "2b111948-18bf-445a-9921-7a82560cc806"
      },
      "execution_count": null,
      "outputs": [
        {
          "output_type": "execute_result",
          "data": {
            "text/plain": [
              "<re.Match object; span=(5, 14), match='9oodchuck'>"
            ]
          },
          "metadata": {},
          "execution_count": 8
        }
      ]
    },
    {
      "cell_type": "code",
      "source": [
        "re.search(\"[^0-9]ood.*chuck\",myanimal)"
      ],
      "metadata": {
        "id": "EELlZN--byMh"
      },
      "execution_count": null,
      "outputs": []
    },
    {
      "cell_type": "code",
      "source": [
        "myanimal=\"Type_Woodchuck\"\n",
        "re.search(\"[^0-9]ood.*chuck\",myanimal)"
      ],
      "metadata": {
        "colab": {
          "base_uri": "https://localhost:8080/"
        },
        "id": "uxaofOLibyWx",
        "outputId": "2e412789-282e-4552-c3a6-ec645ad4976f"
      },
      "execution_count": null,
      "outputs": [
        {
          "output_type": "execute_result",
          "data": {
            "text/plain": [
              "<re.Match object; span=(5, 14), match='Woodchuck'>"
            ]
          },
          "metadata": {},
          "execution_count": 10
        }
      ]
    },
    {
      "cell_type": "code",
      "source": [
        "re.search(\"[^0-9A-Z]ood.*chuck\",myanimal)"
      ],
      "metadata": {
        "id": "N52O4ucMbydu"
      },
      "execution_count": null,
      "outputs": []
    },
    {
      "cell_type": "code",
      "source": [
        "re.search(\"[^W^]ood.*chuck\",myanimal)"
      ],
      "metadata": {
        "id": "94Hv9vpLdoia"
      },
      "execution_count": null,
      "outputs": []
    },
    {
      "cell_type": "code",
      "source": [
        "re.search(\"[W^w]ood.*chuck\",myanimal)"
      ],
      "metadata": {
        "colab": {
          "base_uri": "https://localhost:8080/"
        },
        "id": "-5mIvMe7dovn",
        "outputId": "97b8718b-66c2-429a-e7f6-8594c76bf995"
      },
      "execution_count": null,
      "outputs": [
        {
          "output_type": "execute_result",
          "data": {
            "text/plain": [
              "<re.Match object; span=(5, 14), match='Woodchuck'>"
            ]
          },
          "metadata": {},
          "execution_count": 13
        }
      ]
    },
    {
      "cell_type": "code",
      "source": [
        "myanimal=\"Type_W^woodchuck\""
      ],
      "metadata": {
        "id": "9KCd2clngHPH"
      },
      "execution_count": null,
      "outputs": []
    },
    {
      "cell_type": "code",
      "source": [
        "re.search(\"[W^w]ood.*chuck\",myanimal)"
      ],
      "metadata": {
        "colab": {
          "base_uri": "https://localhost:8080/"
        },
        "id": "tVgXZqGTdo6P",
        "outputId": "ffd8d1b2-f6bd-4d81-a6a0-ddb7aa8e5648"
      },
      "execution_count": null,
      "outputs": [
        {
          "output_type": "execute_result",
          "data": {
            "text/plain": [
              "<re.Match object; span=(7, 16), match='woodchuck'>"
            ]
          },
          "metadata": {},
          "execution_count": 15
        }
      ]
    },
    {
      "cell_type": "code",
      "source": [
        "str=\"baaaaaa\"\n",
        "re.search(\"baa+\",str)"
      ],
      "metadata": {
        "colab": {
          "base_uri": "https://localhost:8080/"
        },
        "id": "K0xtNPTXdpEZ",
        "outputId": "c6857d00-3ddd-4fcf-8584-98bb176fe06c"
      },
      "execution_count": null,
      "outputs": [
        {
          "output_type": "execute_result",
          "data": {
            "text/plain": [
              "<re.Match object; span=(0, 7), match='baaaaaa'>"
            ]
          },
          "metadata": {},
          "execution_count": 16
        }
      ]
    },
    {
      "cell_type": "code",
      "source": [
        "re.search(\"baa*\",str)"
      ],
      "metadata": {
        "colab": {
          "base_uri": "https://localhost:8080/"
        },
        "id": "ROCo6cT3jmnw",
        "outputId": "d657e36b-0e7b-454b-a060-76e46c13ea63"
      },
      "execution_count": null,
      "outputs": [
        {
          "output_type": "execute_result",
          "data": {
            "text/plain": [
              "<re.Match object; span=(0, 7), match='baaaaaa'>"
            ]
          },
          "metadata": {},
          "execution_count": 17
        }
      ]
    },
    {
      "cell_type": "code",
      "source": [
        "\n",
        "re.search(\"baa?\",str)"
      ],
      "metadata": {
        "colab": {
          "base_uri": "https://localhost:8080/"
        },
        "id": "teZiZGCJjpP8",
        "outputId": "4372f5c3-bc59-405e-fa7a-d6c6ce2ace9a"
      },
      "execution_count": null,
      "outputs": [
        {
          "output_type": "execute_result",
          "data": {
            "text/plain": [
              "<re.Match object; span=(0, 3), match='baa'>"
            ]
          },
          "metadata": {},
          "execution_count": 18
        }
      ]
    },
    {
      "cell_type": "code",
      "source": [
        "str=\"ba\"\n",
        "re.search(\"baa?\",str)"
      ],
      "metadata": {
        "colab": {
          "base_uri": "https://localhost:8080/"
        },
        "id": "UB4Calhhjm6O",
        "outputId": "334f5255-a35b-4bc6-a62c-349c9da07149"
      },
      "execution_count": null,
      "outputs": [
        {
          "output_type": "execute_result",
          "data": {
            "text/plain": [
              "<re.Match object; span=(0, 2), match='ba'>"
            ]
          },
          "metadata": {},
          "execution_count": 19
        }
      ]
    },
    {
      "cell_type": "code",
      "source": [
        "str=\"ba3dvg\"\n",
        "re.search(\"ba.*\",str)"
      ],
      "metadata": {
        "colab": {
          "base_uri": "https://localhost:8080/"
        },
        "id": "7d-eXmzwkrvJ",
        "outputId": "ba39d610-a034-4a7a-eed9-1253238aa780"
      },
      "execution_count": null,
      "outputs": [
        {
          "output_type": "execute_result",
          "data": {
            "text/plain": [
              "<re.Match object; span=(0, 6), match='ba3dvg'>"
            ]
          },
          "metadata": {},
          "execution_count": 20
        }
      ]
    },
    {
      "cell_type": "code",
      "source": [
        "str=\"Hello vvit\""
      ],
      "metadata": {
        "id": "n5Xnv89nLpCD"
      },
      "execution_count": null,
      "outputs": []
    },
    {
      "cell_type": "code",
      "source": [
        "re.search(\"^H.*vvit$\",str)"
      ],
      "metadata": {
        "colab": {
          "base_uri": "https://localhost:8080/"
        },
        "id": "_vNy-8glLpP3",
        "outputId": "6943748e-f1ec-4640-dceb-4a4876212828"
      },
      "execution_count": null,
      "outputs": [
        {
          "output_type": "execute_result",
          "data": {
            "text/plain": [
              "<re.Match object; span=(0, 10), match='Hello vvit'>"
            ]
          },
          "metadata": {},
          "execution_count": 22
        }
      ]
    },
    {
      "cell_type": "code",
      "source": [
        "example1 = re.findall(r'\\s', \"Hello World\")  # Returns a list of whitespace characters\n",
        "print(example1)"
      ],
      "metadata": {
        "colab": {
          "base_uri": "https://localhost:8080/"
        },
        "id": "nll7YE7eL_8Q",
        "outputId": "23b537dc-827e-4d9e-85dc-0ca6bb2a29c2"
      },
      "execution_count": null,
      "outputs": [
        {
          "output_type": "stream",
          "name": "stdout",
          "text": [
            "[' ']\n"
          ]
        }
      ]
    },
    {
      "cell_type": "code",
      "source": [
        "example2=re.findall(r'\\S',\"Hello World\")\n",
        "print(example2)"
      ],
      "metadata": {
        "colab": {
          "base_uri": "https://localhost:8080/"
        },
        "id": "XO3vH9L4MAJN",
        "outputId": "7e8c9a6e-b618-470c-f238-507345af14f9"
      },
      "execution_count": null,
      "outputs": [
        {
          "output_type": "stream",
          "name": "stdout",
          "text": [
            "['H', 'e', 'l', 'l', 'o', 'W', 'o', 'r', 'l', 'd']\n"
          ]
        }
      ]
    },
    {
      "cell_type": "code",
      "source": [
        "example3=re.findall(r'\\d',\"Age:30\")\n",
        "print(example3)"
      ],
      "metadata": {
        "colab": {
          "base_uri": "https://localhost:8080/"
        },
        "id": "7S3ONgzwNyCe",
        "outputId": "1c32bb35-ec8d-450d-eb4d-75c86f916fd7"
      },
      "execution_count": null,
      "outputs": [
        {
          "output_type": "stream",
          "name": "stdout",
          "text": [
            "['3', '0']\n"
          ]
        }
      ]
    },
    {
      "cell_type": "code",
      "source": [
        "example3=re.findall(r'\\D',\"Age:30\")\n",
        "print(example3)"
      ],
      "metadata": {
        "colab": {
          "base_uri": "https://localhost:8080/"
        },
        "id": "GWQDJ-mtNyOK",
        "outputId": "a46c82e6-368f-483a-d7f7-2cc075747fbf"
      },
      "execution_count": null,
      "outputs": [
        {
          "output_type": "stream",
          "name": "stdout",
          "text": [
            "['A', 'g', 'e', ':']\n"
          ]
        }
      ]
    },
    {
      "cell_type": "code",
      "source": [
        "example4=re.findall(r'\\w',\"Hello12 $ @_world\")\n",
        "print(example4)"
      ],
      "metadata": {
        "colab": {
          "base_uri": "https://localhost:8080/"
        },
        "id": "DNVOuUbJNyU7",
        "outputId": "0fead001-f4fb-426c-9489-c722f691c85a"
      },
      "execution_count": null,
      "outputs": [
        {
          "output_type": "stream",
          "name": "stdout",
          "text": [
            "['H', 'e', 'l', 'l', 'o', '1', '2', '_', 'w', 'o', 'r', 'l', 'd']\n"
          ]
        }
      ]
    },
    {
      "cell_type": "code",
      "source": [
        "example4=re.findall(r'\\W',\"Hello12 $ @_world\")\n",
        "print(example4)"
      ],
      "metadata": {
        "colab": {
          "base_uri": "https://localhost:8080/"
        },
        "id": "lC3LzLabNya2",
        "outputId": "19e0fcc5-dd97-4949-d4ae-08a1602f2b27"
      },
      "execution_count": null,
      "outputs": [
        {
          "output_type": "stream",
          "name": "stdout",
          "text": [
            "[' ', '$', ' ', '@']\n"
          ]
        }
      ]
    },
    {
      "cell_type": "code",
      "source": [
        "example7 = re.findall(r'[A-Z]', \"Hello World\")  # Returns a list of uppercase letters\n",
        "print(example7)"
      ],
      "metadata": {
        "colab": {
          "base_uri": "https://localhost:8080/"
        },
        "id": "1PiM6G4FNygq",
        "outputId": "d2f49ee2-023b-48ad-f2f3-626dff446ef8"
      },
      "execution_count": null,
      "outputs": [
        {
          "output_type": "stream",
          "name": "stdout",
          "text": [
            "['H', 'W']\n"
          ]
        }
      ]
    },
    {
      "cell_type": "code",
      "source": [
        "example7 = re.findall(r'[a-z]', \"Hello World\")  # Returns a list of uppercase letters\n",
        "print(example7)"
      ],
      "metadata": {
        "colab": {
          "base_uri": "https://localhost:8080/"
        },
        "id": "EB6NfnPbNymn",
        "outputId": "4cb2d023-2004-4259-e3c4-1a048d5d01fb"
      },
      "execution_count": null,
      "outputs": [
        {
          "output_type": "stream",
          "name": "stdout",
          "text": [
            "['e', 'l', 'l', 'o', 'o', 'r', 'l', 'd']\n"
          ]
        }
      ]
    },
    {
      "cell_type": "code",
      "source": [
        "# Test the regular expression\n",
        "input_string = \"zsdfg1a1z2l3\"\n",
        "matches = re.findall(r'(\\d)[a-z]\\1', input_string)\n",
        "\n",
        "# Print the matches\n",
        "print(matches)  # Output: ['1', '1']\n"
      ],
      "metadata": {
        "colab": {
          "base_uri": "https://localhost:8080/"
        },
        "id": "wzDE1KkYNysO",
        "outputId": "dab8aa74-092d-47c2-d3b5-d82ee86276f6"
      },
      "execution_count": null,
      "outputs": [
        {
          "output_type": "stream",
          "name": "stdout",
          "text": [
            "['1']\n"
          ]
        }
      ]
    },
    {
      "cell_type": "code",
      "source": [
        "import re\n",
        "\n",
        "# Define a pattern using regular expressions\n",
        "pattern = r'(\\d)([a-z])\\1'\n",
        "\n",
        "# Sample text to search for matches\n",
        "text1 = \"1a1\"\n",
        "text2=\"2b2\"\n",
        "text3=\"3c3\"\n",
        "text4=\"4d4\"\n",
        "text5=\"5e5\"\n",
        "\n",
        "# Use re.findall to find all matching patterns\n",
        "matches = re.findall(pattern, text1)\n",
        "\n",
        "print(matches)"
      ],
      "metadata": {
        "colab": {
          "base_uri": "https://localhost:8080/"
        },
        "id": "ZT8tlpFX5JCZ",
        "outputId": "68c61547-638e-40fc-e490-d620008f082c"
      },
      "execution_count": null,
      "outputs": [
        {
          "output_type": "stream",
          "name": "stdout",
          "text": [
            "[('1', 'a')]\n"
          ]
        }
      ]
    },
    {
      "cell_type": "code",
      "source": [
        "matches = re.findall(pattern, text2)\n",
        "print(matches)"
      ],
      "metadata": {
        "colab": {
          "base_uri": "https://localhost:8080/"
        },
        "id": "aS7dffO05NQ3",
        "outputId": "5576e404-99ad-4ed9-906d-ea2bcaadc8d1"
      },
      "execution_count": null,
      "outputs": [
        {
          "output_type": "stream",
          "name": "stdout",
          "text": [
            "[('2', 'b')]\n"
          ]
        }
      ]
    },
    {
      "cell_type": "code",
      "source": [
        "pattern = r'(\\d)([a-z](\\d))\\2'"
      ],
      "metadata": {
        "id": "3wbSoH315NcI"
      },
      "execution_count": null,
      "outputs": []
    },
    {
      "cell_type": "code",
      "source": [
        "text2=\"2b2b\"\n",
        "matches = re.findall(pattern, text2)\n",
        "print(matches)"
      ],
      "metadata": {
        "colab": {
          "base_uri": "https://localhost:8080/"
        },
        "id": "i-wuxr5W5Nm2",
        "outputId": "1ad15a84-3989-4890-b5e8-566211e830a5"
      },
      "execution_count": null,
      "outputs": [
        {
          "output_type": "stream",
          "name": "stdout",
          "text": [
            "[]\n"
          ]
        }
      ]
    },
    {
      "cell_type": "code",
      "source": [
        "import re\n",
        "\n",
        "string = \"Hello World!\"\n",
        "pattern = r\"World!$\"\n",
        "\n",
        "match = re.search(pattern, string)\n",
        "if match:\n",
        "    print(\"Match found!\")\n",
        "else:\n",
        "    print(\"Match not found.\")"
      ],
      "metadata": {
        "colab": {
          "base_uri": "https://localhost:8080/"
        },
        "id": "TTRvyQ_35Nr7",
        "outputId": "a56a40fa-4971-4300-d9f0-7c70492b42cc"
      },
      "execution_count": null,
      "outputs": [
        {
          "output_type": "stream",
          "name": "stdout",
          "text": [
            "Match not found.\n"
          ]
        }
      ]
    },
    {
      "cell_type": "code",
      "source": [
        "import re\n",
        "\n",
        "# Define a pattern using quantifiers\n",
        "pattern = r'\\d{2,4}'\n",
        "\n",
        "# Sample text to search for matches\n",
        "text = \" 1   123 4567 89 123456 12\"\n",
        "\n",
        "# Use re.findall to find all matching patterns\n",
        "matches = re.findall(pattern, text)\n",
        "\n",
        "# Print the matches\n",
        "print(\"Matches:\", matches)\n"
      ],
      "metadata": {
        "colab": {
          "base_uri": "https://localhost:8080/"
        },
        "id": "zIIjD4l45N6N",
        "outputId": "c7505dda-9864-4ad0-c716-6cf4e3ae0df3"
      },
      "execution_count": null,
      "outputs": [
        {
          "output_type": "stream",
          "name": "stdout",
          "text": [
            "Matches: ['123', '4567', '89', '1234', '56', '12']\n"
          ]
        }
      ]
    },
    {
      "cell_type": "code",
      "source": [
        "import re\n",
        "\n",
        "# Define a pattern using capturing groups and backreferences\n",
        "pattern = r'(\\d)([a-z][A-Z])\\1\\2'\n",
        "\n",
        "# Sample text to search for matches\n",
        "text = \"1aA1aA1aA 2bB2cC2cC 3cC3bB 4dD4eE\"\n",
        "\n",
        "# Use re.findall to find all matching patterns\n",
        "matches = re.findall(pattern, text)\n",
        "\n",
        "# Iterate through the matches and display the differences\n",
        "for match in matches:\n",
        "    digit = match[0]\n",
        "    letter1 = match[1]\n",
        "    print(f\"Match: {digit}{letter1}{digit}{letter1}\")\n",
        "    print(f\"Difference between \\\\1 and \\\\2: {digit} (\\\\1) vs. {letter1} (\\\\2)\")\n",
        "    print()\n"
      ],
      "metadata": {
        "colab": {
          "base_uri": "https://localhost:8080/"
        },
        "id": "eRo88DdqIBy0",
        "outputId": "3ece136e-97bd-48e2-aac1-dd6a5d8ce4ca"
      },
      "execution_count": null,
      "outputs": [
        {
          "output_type": "stream",
          "name": "stdout",
          "text": [
            "Match: 1aA1aA\n",
            "Difference between \\1 and \\2: 1 (\\1) vs. aA (\\2)\n",
            "\n",
            "Match: 2cC2cC\n",
            "Difference between \\1 and \\2: 2 (\\1) vs. cC (\\2)\n",
            "\n"
          ]
        }
      ]
    },
    {
      "cell_type": "code",
      "source": [
        "import re\n",
        "\n",
        "# Text to search for matches\n",
        "text = \"zsdfg1a1z2l3 13awdfgasdf31\"\n",
        "\n",
        "# Regular expression patterns\n",
        "pattern1 = r'(\\d)[a-z]\\1'\n",
        "pattern2 = r'^(\\d)(\\d).*\\2\\1$'\n",
        "\n",
        "# Find matches for pattern1\n",
        "matches1 = re.findall(pattern1, text)\n",
        "\n",
        "# Find matches for pattern2\n",
        "matches2 = re.findall(pattern2, text)\n",
        "\n",
        "# Print the matches and their descriptions\n",
        "if matches1:\n",
        "    print(\"Matches for pattern1 ('A letter bracketed by the same number on each side'):\")\n",
        "    for match in matches1:\n",
        "        print(f\"Match: {match[0]}{match[0]}{match[0]}\")\n",
        "    print()\n",
        "\n",
        "if matches2:\n",
        "    print(\"Matches for pattern2 ('A line starting with two digits and ending with those two digits in reverse order'):\")\n",
        "    for match in matches2:\n",
        "        print(f\"Match: {match}\")\n",
        "else:\n",
        "    print(\"No matches found for pattern2.\")\n"
      ],
      "metadata": {
        "colab": {
          "base_uri": "https://localhost:8080/"
        },
        "id": "lgsAt7WWMmmT",
        "outputId": "68c920b3-e5a1-4466-bcfb-840527fc4a4a"
      },
      "execution_count": null,
      "outputs": [
        {
          "output_type": "stream",
          "name": "stdout",
          "text": [
            "Matches for pattern1 ('A letter bracketed by the same number on each side'):\n",
            "Match: 111\n",
            "\n",
            "No matches found for pattern2.\n"
          ]
        }
      ]
    }
  ]
}